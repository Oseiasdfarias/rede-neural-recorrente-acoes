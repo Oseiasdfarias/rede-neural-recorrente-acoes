{
 "cells": [
  {
   "cell_type": "markdown",
   "id": "96607435",
   "metadata": {},
   "source": [
    "# Rede Neural Recorrente usando dados da Bolsa de valores\n"
   ]
  },
  {
   "cell_type": "code",
   "execution_count": 59,
   "id": "6916acf4",
   "metadata": {},
   "outputs": [],
   "source": [
    "from keras.models import Sequential\n",
    "from keras.layers import Dense, Dropout, LSTM\n",
    "from sklearn.preprocessing import MinMaxScaler\n",
    "import numpy as np\n",
    "import pandas as pd\n",
    "import matplotlib.pyplot as plt"
   ]
  },
  {
   "cell_type": "code",
   "execution_count": 2,
   "id": "68ec060c",
   "metadata": {},
   "outputs": [],
   "source": [
    "base = pd.read_csv(\"petr4_treinamento.csv\")"
   ]
  },
  {
   "cell_type": "code",
   "execution_count": 3,
   "id": "ab8c7fb8",
   "metadata": {},
   "outputs": [
    {
     "data": {
      "text/html": [
       "<div>\n",
       "<style scoped>\n",
       "    .dataframe tbody tr th:only-of-type {\n",
       "        vertical-align: middle;\n",
       "    }\n",
       "\n",
       "    .dataframe tbody tr th {\n",
       "        vertical-align: top;\n",
       "    }\n",
       "\n",
       "    .dataframe thead th {\n",
       "        text-align: right;\n",
       "    }\n",
       "</style>\n",
       "<table border=\"1\" class=\"dataframe\">\n",
       "  <thead>\n",
       "    <tr style=\"text-align: right;\">\n",
       "      <th></th>\n",
       "      <th>Date</th>\n",
       "      <th>Open</th>\n",
       "      <th>High</th>\n",
       "      <th>Low</th>\n",
       "      <th>Close</th>\n",
       "      <th>Adj Close</th>\n",
       "      <th>Volume</th>\n",
       "    </tr>\n",
       "  </thead>\n",
       "  <tbody>\n",
       "    <tr>\n",
       "      <th>0</th>\n",
       "      <td>2013-01-02</td>\n",
       "      <td>19.990000</td>\n",
       "      <td>20.209999</td>\n",
       "      <td>19.690001</td>\n",
       "      <td>19.690001</td>\n",
       "      <td>18.086271</td>\n",
       "      <td>30182600.0</td>\n",
       "    </tr>\n",
       "    <tr>\n",
       "      <th>1</th>\n",
       "      <td>2013-01-03</td>\n",
       "      <td>19.809999</td>\n",
       "      <td>20.400000</td>\n",
       "      <td>19.700001</td>\n",
       "      <td>20.400000</td>\n",
       "      <td>18.738441</td>\n",
       "      <td>30552600.0</td>\n",
       "    </tr>\n",
       "    <tr>\n",
       "      <th>2</th>\n",
       "      <td>2013-01-04</td>\n",
       "      <td>20.330000</td>\n",
       "      <td>20.620001</td>\n",
       "      <td>20.170000</td>\n",
       "      <td>20.430000</td>\n",
       "      <td>18.766001</td>\n",
       "      <td>36141000.0</td>\n",
       "    </tr>\n",
       "    <tr>\n",
       "      <th>3</th>\n",
       "      <td>2013-01-07</td>\n",
       "      <td>20.480000</td>\n",
       "      <td>20.670000</td>\n",
       "      <td>19.950001</td>\n",
       "      <td>20.080000</td>\n",
       "      <td>18.444506</td>\n",
       "      <td>28069600.0</td>\n",
       "    </tr>\n",
       "    <tr>\n",
       "      <th>4</th>\n",
       "      <td>2013-01-08</td>\n",
       "      <td>20.110001</td>\n",
       "      <td>20.230000</td>\n",
       "      <td>19.459999</td>\n",
       "      <td>19.500000</td>\n",
       "      <td>17.911745</td>\n",
       "      <td>29091300.0</td>\n",
       "    </tr>\n",
       "  </tbody>\n",
       "</table>\n",
       "</div>"
      ],
      "text/plain": [
       "         Date       Open       High  ...      Close  Adj Close      Volume\n",
       "0  2013-01-02  19.990000  20.209999  ...  19.690001  18.086271  30182600.0\n",
       "1  2013-01-03  19.809999  20.400000  ...  20.400000  18.738441  30552600.0\n",
       "2  2013-01-04  20.330000  20.620001  ...  20.430000  18.766001  36141000.0\n",
       "3  2013-01-07  20.480000  20.670000  ...  20.080000  18.444506  28069600.0\n",
       "4  2013-01-08  20.110001  20.230000  ...  19.500000  17.911745  29091300.0\n",
       "\n",
       "[5 rows x 7 columns]"
      ]
     },
     "execution_count": 3,
     "metadata": {},
     "output_type": "execute_result"
    }
   ],
   "source": [
    "base.head()"
   ]
  },
  {
   "cell_type": "code",
   "execution_count": 4,
   "id": "2ba92eb1",
   "metadata": {},
   "outputs": [],
   "source": [
    "base = base.dropna()\n"
   ]
  },
  {
   "cell_type": "markdown",
   "id": "be3dae30",
   "metadata": {},
   "source": [
    "# Base de Treinamento usando a coluna Open do dataset"
   ]
  },
  {
   "cell_type": "code",
   "execution_count": 5,
   "id": "2c584425",
   "metadata": {},
   "outputs": [],
   "source": [
    "base_treinamento = base.iloc[:, 1:2].values"
   ]
  },
  {
   "cell_type": "markdown",
   "id": "a3640e25",
   "metadata": {},
   "source": [
    "### Vamos aplicar a normalização dos dados para que a rede neural recorrente seja mais rápida no treinamento"
   ]
  },
  {
   "cell_type": "code",
   "execution_count": 11,
   "id": "ce16a880",
   "metadata": {},
   "outputs": [],
   "source": [
    "normalizador = MinMaxScaler(feature_range=(0,1))\n",
    "base_train_norm = normalizador.fit_transform(base_treinamento)"
   ]
  },
  {
   "cell_type": "markdown",
   "id": "3b8f7195",
   "metadata": {},
   "source": [
    "## Estrutura da base de dados para a rede neural recorrente"
   ]
  },
  {
   "cell_type": "code",
   "execution_count": 35,
   "id": "854d5420",
   "metadata": {},
   "outputs": [],
   "source": [
    "previsores = []\n",
    "preco_real = []\n",
    "\n",
    "for i in range(90, 1242):\n",
    "\n",
    "    previsores.append(base_train_norm[i-90:i, 0])\n",
    "    preco_real.append(base_train_norm[i,0])\n",
    "    \n",
    "previsores, preco_real = np.array(previsores), np.array(preco_real)\n",
    "previsores = np.reshape(previsores, (previsores.shape[0], previsores.shape[1], 1))\n",
    "\n"
   ]
  },
  {
   "cell_type": "code",
   "execution_count": 36,
   "id": "d6b15805",
   "metadata": {},
   "outputs": [
    {
     "data": {
      "text/plain": [
       "(1152, 90, 1)"
      ]
     },
     "execution_count": 36,
     "metadata": {},
     "output_type": "execute_result"
    }
   ],
   "source": [
    "previsores.shape[0:3]"
   ]
  },
  {
   "cell_type": "markdown",
   "id": "d916ff7d",
   "metadata": {},
   "source": [
    "## Implementação da estrutura da rede eural recorrente para fazer a previsão "
   ]
  },
  {
   "cell_type": "code",
   "execution_count": 42,
   "id": "c647f221",
   "metadata": {},
   "outputs": [],
   "source": [
    "regressor = Sequential()\n",
    "regressor.add(LSTM(units=100, return_sequences = True, input_shape = (previsores.shape[1], 1)))\n",
    "regressor.add(Dropout(0.3))\n",
    "\n",
    "regressor.add(LSTM(units=50, return_sequences=True))\n",
    "regressor.add(Dropout(0.3))\n",
    "\n",
    "regressor.add(LSTM(units=50, return_sequences=True))\n",
    "regressor.add(Dropout(0.3))\n",
    "\n",
    "regressor.add(LSTM(units=50))\n",
    "regressor.add(Dropout(0.3))\n",
    "\n",
    "regressor.add(Dense(units=1, activation=\"linear\"))\n",
    "\n"
   ]
  },
  {
   "cell_type": "code",
   "execution_count": 43,
   "id": "2b0ea565",
   "metadata": {},
   "outputs": [
    {
     "name": "stdout",
     "output_type": "stream",
     "text": [
      "Model: \"sequential_1\"\n",
      "_________________________________________________________________\n",
      "Layer (type)                 Output Shape              Param #   \n",
      "=================================================================\n",
      "lstm_1 (LSTM)                (None, 90, 100)           40800     \n",
      "_________________________________________________________________\n",
      "dropout_1 (Dropout)          (None, 90, 100)           0         \n",
      "_________________________________________________________________\n",
      "lstm_2 (LSTM)                (None, 90, 50)            30200     \n",
      "_________________________________________________________________\n",
      "dropout_2 (Dropout)          (None, 90, 50)            0         \n",
      "_________________________________________________________________\n",
      "lstm_3 (LSTM)                (None, 90, 50)            20200     \n",
      "_________________________________________________________________\n",
      "dropout_3 (Dropout)          (None, 90, 50)            0         \n",
      "_________________________________________________________________\n",
      "lstm_4 (LSTM)                (None, 50)                20200     \n",
      "_________________________________________________________________\n",
      "dropout_4 (Dropout)          (None, 50)                0         \n",
      "_________________________________________________________________\n",
      "dense (Dense)                (None, 1)                 51        \n",
      "=================================================================\n",
      "Total params: 111,451\n",
      "Trainable params: 111,451\n",
      "Non-trainable params: 0\n",
      "_________________________________________________________________\n"
     ]
    }
   ],
   "source": [
    "regressor.compile(optimizer=\"rmsprop\",\n",
    "                  loss=\"mean_squared_error\",\n",
    "                 metrics=[\"mean_absolute_error\"])\n",
    "\n",
    "regressor.summary()"
   ]
  },
  {
   "cell_type": "code",
   "execution_count": 44,
   "id": "d7292260",
   "metadata": {
    "scrolled": false
   },
   "outputs": [
    {
     "name": "stdout",
     "output_type": "stream",
     "text": [
      "Epoch 1/100\n",
      "36/36 [==============================] - 17s 218ms/step - loss: 0.0717 - mean_absolute_error: 0.2015\n",
      "Epoch 2/100\n",
      "36/36 [==============================] - 9s 257ms/step - loss: 0.0156 - mean_absolute_error: 0.0955\n",
      "Epoch 3/100\n",
      "36/36 [==============================] - 9s 253ms/step - loss: 0.0125 - mean_absolute_error: 0.0864\n",
      "Epoch 4/100\n",
      "36/36 [==============================] - 8s 221ms/step - loss: 0.0105 - mean_absolute_error: 0.0801\n",
      "Epoch 5/100\n",
      "36/36 [==============================] - 8s 218ms/step - loss: 0.0113 - mean_absolute_error: 0.0812\n",
      "Epoch 6/100\n",
      "36/36 [==============================] - 8s 217ms/step - loss: 0.0086 - mean_absolute_error: 0.0708\n",
      "Epoch 7/100\n",
      "36/36 [==============================] - 8s 218ms/step - loss: 0.0077 - mean_absolute_error: 0.0661\n",
      "Epoch 8/100\n",
      "36/36 [==============================] - 8s 224ms/step - loss: 0.0096 - mean_absolute_error: 0.0717\n",
      "Epoch 9/100\n",
      "36/36 [==============================] - 8s 222ms/step - loss: 0.0082 - mean_absolute_error: 0.0669\n",
      "Epoch 10/100\n",
      "36/36 [==============================] - 8s 224ms/step - loss: 0.0071 - mean_absolute_error: 0.0645\n",
      "Epoch 11/100\n",
      "36/36 [==============================] - 8s 219ms/step - loss: 0.0065 - mean_absolute_error: 0.0611\n",
      "Epoch 12/100\n",
      "36/36 [==============================] - 8s 220ms/step - loss: 0.0055 - mean_absolute_error: 0.0562\n",
      "Epoch 13/100\n",
      "36/36 [==============================] - 8s 220ms/step - loss: 0.0052 - mean_absolute_error: 0.0553\n",
      "Epoch 14/100\n",
      "36/36 [==============================] - 8s 219ms/step - loss: 0.0051 - mean_absolute_error: 0.0547\n",
      "Epoch 15/100\n",
      "36/36 [==============================] - 8s 217ms/step - loss: 0.0055 - mean_absolute_error: 0.0569\n",
      "Epoch 16/100\n",
      "36/36 [==============================] - 11s 294ms/step - loss: 0.0048 - mean_absolute_error: 0.0530\n",
      "Epoch 17/100\n",
      "36/36 [==============================] - 16s 437ms/step - loss: 0.0043 - mean_absolute_error: 0.0499\n",
      "Epoch 18/100\n",
      "36/36 [==============================] - 14s 385ms/step - loss: 0.0043 - mean_absolute_error: 0.0509\n",
      "Epoch 19/100\n",
      "36/36 [==============================] - 10s 271ms/step - loss: 0.0045 - mean_absolute_error: 0.0510\n",
      "Epoch 20/100\n",
      "36/36 [==============================] - 11s 301ms/step - loss: 0.0039 - mean_absolute_error: 0.0479\n",
      "Epoch 21/100\n",
      "36/36 [==============================] - 17s 463ms/step - loss: 0.0038 - mean_absolute_error: 0.0473\n",
      "Epoch 22/100\n",
      "36/36 [==============================] - 14s 378ms/step - loss: 0.0041 - mean_absolute_error: 0.0496\n",
      "Epoch 23/100\n",
      "36/36 [==============================] - 14s 375ms/step - loss: 0.0036 - mean_absolute_error: 0.0460\n",
      "Epoch 24/100\n",
      "36/36 [==============================] - 9s 246ms/step - loss: 0.0049 - mean_absolute_error: 0.0547\n",
      "Epoch 25/100\n",
      "36/36 [==============================] - 10s 268ms/step - loss: 0.0036 - mean_absolute_error: 0.0460\n",
      "Epoch 26/100\n",
      "36/36 [==============================] - 10s 287ms/step - loss: 0.0041 - mean_absolute_error: 0.0477\n",
      "Epoch 27/100\n",
      "36/36 [==============================] - 11s 297ms/step - loss: 0.0036 - mean_absolute_error: 0.0452\n",
      "Epoch 28/100\n",
      "36/36 [==============================] - 13s 353ms/step - loss: 0.0029 - mean_absolute_error: 0.0405\n",
      "Epoch 29/100\n",
      "36/36 [==============================] - 9s 259ms/step - loss: 0.0029 - mean_absolute_error: 0.0417\n",
      "Epoch 30/100\n",
      "36/36 [==============================] - 8s 219ms/step - loss: 0.0033 - mean_absolute_error: 0.0427\n",
      "Epoch 31/100\n",
      "36/36 [==============================] - 11s 307ms/step - loss: 0.0023 - mean_absolute_error: 0.0371\n",
      "Epoch 32/100\n",
      "36/36 [==============================] - 9s 261ms/step - loss: 0.0038 - mean_absolute_error: 0.0457\n",
      "Epoch 33/100\n",
      "36/36 [==============================] - 9s 260ms/step - loss: 0.0031 - mean_absolute_error: 0.0430\n",
      "Epoch 34/100\n",
      "36/36 [==============================] - 9s 254ms/step - loss: 0.0031 - mean_absolute_error: 0.0417\n",
      "Epoch 35/100\n",
      "36/36 [==============================] - 8s 219ms/step - loss: 0.0031 - mean_absolute_error: 0.0429\n",
      "Epoch 36/100\n",
      "36/36 [==============================] - 8s 218ms/step - loss: 0.0031 - mean_absolute_error: 0.0416\n",
      "Epoch 37/100\n",
      "36/36 [==============================] - 8s 218ms/step - loss: 0.0027 - mean_absolute_error: 0.0394\n",
      "Epoch 38/100\n",
      "36/36 [==============================] - 8s 220ms/step - loss: 0.0026 - mean_absolute_error: 0.0388\n",
      "Epoch 39/100\n",
      "36/36 [==============================] - 9s 257ms/step - loss: 0.0029 - mean_absolute_error: 0.0409\n",
      "Epoch 40/100\n",
      "36/36 [==============================] - 9s 239ms/step - loss: 0.0022 - mean_absolute_error: 0.0359\n",
      "Epoch 41/100\n",
      "36/36 [==============================] - 10s 269ms/step - loss: 0.0026 - mean_absolute_error: 0.0386\n",
      "Epoch 42/100\n",
      "36/36 [==============================] - 7s 207ms/step - loss: 0.0025 - mean_absolute_error: 0.0378\n",
      "Epoch 43/100\n",
      "36/36 [==============================] - 10s 271ms/step - loss: 0.0025 - mean_absolute_error: 0.0378\n",
      "Epoch 44/100\n",
      "36/36 [==============================] - 10s 288ms/step - loss: 0.0023 - mean_absolute_error: 0.0370\n",
      "Epoch 45/100\n",
      "36/36 [==============================] - 10s 290ms/step - loss: 0.0025 - mean_absolute_error: 0.0381\n",
      "Epoch 46/100\n",
      "36/36 [==============================] - 9s 252ms/step - loss: 0.0021 - mean_absolute_error: 0.0358\n",
      "Epoch 47/100\n",
      "36/36 [==============================] - 9s 257ms/step - loss: 0.0025 - mean_absolute_error: 0.0376\n",
      "Epoch 48/100\n",
      "36/36 [==============================] - 11s 301ms/step - loss: 0.0023 - mean_absolute_error: 0.0358\n",
      "Epoch 49/100\n",
      "36/36 [==============================] - 9s 240ms/step - loss: 0.0023 - mean_absolute_error: 0.0371\n",
      "Epoch 50/100\n",
      "36/36 [==============================] - 9s 248ms/step - loss: 0.0023 - mean_absolute_error: 0.0358\n",
      "Epoch 51/100\n",
      "36/36 [==============================] - 9s 242ms/step - loss: 0.0019 - mean_absolute_error: 0.0330\n",
      "Epoch 52/100\n",
      "36/36 [==============================] - 9s 242ms/step - loss: 0.0022 - mean_absolute_error: 0.0346\n",
      "Epoch 53/100\n",
      "36/36 [==============================] - 10s 279ms/step - loss: 0.0023 - mean_absolute_error: 0.0363\n",
      "Epoch 54/100\n",
      "36/36 [==============================] - 8s 234ms/step - loss: 0.0018 - mean_absolute_error: 0.0326\n",
      "Epoch 55/100\n",
      "36/36 [==============================] - 10s 287ms/step - loss: 0.0018 - mean_absolute_error: 0.0319\n",
      "Epoch 56/100\n",
      "36/36 [==============================] - 8s 218ms/step - loss: 0.0020 - mean_absolute_error: 0.0343\n",
      "Epoch 57/100\n",
      "36/36 [==============================] - 10s 273ms/step - loss: 0.0020 - mean_absolute_error: 0.0340\n",
      "Epoch 58/100\n",
      "36/36 [==============================] - 12s 342ms/step - loss: 0.0020 - mean_absolute_error: 0.0337\n",
      "Epoch 59/100\n",
      "36/36 [==============================] - 10s 262ms/step - loss: 0.0020 - mean_absolute_error: 0.0346\n",
      "Epoch 60/100\n",
      "36/36 [==============================] - 8s 222ms/step - loss: 0.0022 - mean_absolute_error: 0.0359\n",
      "Epoch 61/100\n",
      "36/36 [==============================] - 12s 340ms/step - loss: 0.0020 - mean_absolute_error: 0.0330\n",
      "Epoch 62/100\n",
      "36/36 [==============================] - 11s 307ms/step - loss: 0.0020 - mean_absolute_error: 0.0340\n",
      "Epoch 63/100\n",
      "36/36 [==============================] - 12s 330ms/step - loss: 0.0020 - mean_absolute_error: 0.0331\n",
      "Epoch 64/100\n",
      "36/36 [==============================] - 10s 289ms/step - loss: 0.0017 - mean_absolute_error: 0.0308\n",
      "Epoch 65/100\n",
      "36/36 [==============================] - 13s 367ms/step - loss: 0.0018 - mean_absolute_error: 0.0323\n",
      "Epoch 66/100\n",
      "36/36 [==============================] - 14s 404ms/step - loss: 0.0017 - mean_absolute_error: 0.0312\n",
      "Epoch 67/100\n",
      "36/36 [==============================] - 10s 274ms/step - loss: 0.0022 - mean_absolute_error: 0.0351\n",
      "Epoch 68/100\n",
      "36/36 [==============================] - 10s 288ms/step - loss: 0.0019 - mean_absolute_error: 0.0336\n",
      "Epoch 69/100\n",
      "36/36 [==============================] - 13s 371ms/step - loss: 0.0017 - mean_absolute_error: 0.0319\n",
      "Epoch 70/100\n",
      "36/36 [==============================] - 11s 319ms/step - loss: 0.0015 - mean_absolute_error: 0.0287\n",
      "Epoch 71/100\n",
      "36/36 [==============================] - 13s 369ms/step - loss: 0.0018 - mean_absolute_error: 0.0327\n",
      "Epoch 72/100\n",
      "36/36 [==============================] - 15s 415ms/step - loss: 0.0016 - mean_absolute_error: 0.0300\n",
      "Epoch 73/100\n"
     ]
    },
    {
     "name": "stdout",
     "output_type": "stream",
     "text": [
      "36/36 [==============================] - 12s 339ms/step - loss: 0.0019 - mean_absolute_error: 0.0328\n",
      "Epoch 74/100\n",
      "36/36 [==============================] - 12s 344ms/step - loss: 0.0015 - mean_absolute_error: 0.0304\n",
      "Epoch 75/100\n",
      "36/36 [==============================] - 11s 301ms/step - loss: 0.0016 - mean_absolute_error: 0.0295\n",
      "Epoch 76/100\n",
      "36/36 [==============================] - 11s 304ms/step - loss: 0.0018 - mean_absolute_error: 0.0315\n",
      "Epoch 77/100\n",
      "36/36 [==============================] - 12s 323ms/step - loss: 0.0017 - mean_absolute_error: 0.0320\n",
      "Epoch 78/100\n",
      "36/36 [==============================] - 13s 351ms/step - loss: 0.0017 - mean_absolute_error: 0.0312\n",
      "Epoch 79/100\n",
      "36/36 [==============================] - 13s 372ms/step - loss: 0.0019 - mean_absolute_error: 0.0323\n",
      "Epoch 80/100\n",
      "36/36 [==============================] - 10s 278ms/step - loss: 0.0017 - mean_absolute_error: 0.0304\n",
      "Epoch 81/100\n",
      "36/36 [==============================] - 10s 285ms/step - loss: 0.0017 - mean_absolute_error: 0.0303\n",
      "Epoch 82/100\n",
      "36/36 [==============================] - 10s 289ms/step - loss: 0.0018 - mean_absolute_error: 0.0316\n",
      "Epoch 83/100\n",
      "36/36 [==============================] - 10s 277ms/step - loss: 0.0015 - mean_absolute_error: 0.0301\n",
      "Epoch 84/100\n",
      "36/36 [==============================] - 9s 263ms/step - loss: 0.0015 - mean_absolute_error: 0.0291\n",
      "Epoch 85/100\n",
      "36/36 [==============================] - 9s 261ms/step - loss: 0.0017 - mean_absolute_error: 0.0308\n",
      "Epoch 86/100\n",
      "36/36 [==============================] - 9s 261ms/step - loss: 0.0015 - mean_absolute_error: 0.0288\n",
      "Epoch 87/100\n",
      "36/36 [==============================] - 10s 289ms/step - loss: 0.0016 - mean_absolute_error: 0.0299\n",
      "Epoch 88/100\n",
      "36/36 [==============================] - 10s 273ms/step - loss: 0.0016 - mean_absolute_error: 0.0303\n",
      "Epoch 89/100\n",
      "36/36 [==============================] - 10s 277ms/step - loss: 0.0015 - mean_absolute_error: 0.0302\n",
      "Epoch 90/100\n",
      "36/36 [==============================] - 10s 279ms/step - loss: 0.0019 - mean_absolute_error: 0.0321\n",
      "Epoch 91/100\n",
      "36/36 [==============================] - 10s 272ms/step - loss: 0.0017 - mean_absolute_error: 0.0317\n",
      "Epoch 92/100\n",
      "36/36 [==============================] - 10s 277ms/step - loss: 0.0016 - mean_absolute_error: 0.0308\n",
      "Epoch 93/100\n",
      "36/36 [==============================] - 10s 279ms/step - loss: 0.0015 - mean_absolute_error: 0.0292\n",
      "Epoch 94/100\n",
      "36/36 [==============================] - 10s 285ms/step - loss: 0.0015 - mean_absolute_error: 0.0289\n",
      "Epoch 95/100\n",
      "36/36 [==============================] - 10s 283ms/step - loss: 0.0015 - mean_absolute_error: 0.0302\n",
      "Epoch 96/100\n",
      "36/36 [==============================] - 10s 277ms/step - loss: 0.0018 - mean_absolute_error: 0.0307\n",
      "Epoch 97/100\n",
      "36/36 [==============================] - 9s 260ms/step - loss: 0.0017 - mean_absolute_error: 0.0308\n",
      "Epoch 98/100\n",
      "36/36 [==============================] - 9s 261ms/step - loss: 0.0014 - mean_absolute_error: 0.0283\n",
      "Epoch 99/100\n",
      "36/36 [==============================] - 10s 285ms/step - loss: 0.0016 - mean_absolute_error: 0.0296\n",
      "Epoch 100/100\n",
      "36/36 [==============================] - 10s 283ms/step - loss: 0.0015 - mean_absolute_error: 0.0285\n"
     ]
    },
    {
     "data": {
      "text/plain": [
       "<tensorflow.python.keras.callbacks.History at 0x7f42b1808c40>"
      ]
     },
     "execution_count": 44,
     "metadata": {},
     "output_type": "execute_result"
    }
   ],
   "source": [
    "regressor.fit(previsores, preco_real, epochs=100, batch_size=32)"
   ]
  },
  {
   "cell_type": "markdown",
   "id": "7c208925",
   "metadata": {},
   "source": [
    "# Previsão dos preço da Ação"
   ]
  },
  {
   "cell_type": "code",
   "execution_count": 45,
   "id": "37c210f2",
   "metadata": {},
   "outputs": [],
   "source": [
    "base_test = pd.read_csv(\"petr4_teste.csv\")\n",
    "preco_real_teste = base_test.iloc[:, 1:2].values\n",
    "\n",
    "base_completa = pd.concat((base[\"Open\"], base_test[\"Open\"]), axis=0)"
   ]
  },
  {
   "cell_type": "code",
   "execution_count": 47,
   "id": "a0845214",
   "metadata": {},
   "outputs": [
    {
     "data": {
      "text/plain": [
       "1264"
      ]
     },
     "execution_count": 47,
     "metadata": {},
     "output_type": "execute_result"
    }
   ],
   "source": [
    "base_completa.shape[0]"
   ]
  },
  {
   "cell_type": "code",
   "execution_count": 48,
   "id": "76830db6",
   "metadata": {},
   "outputs": [],
   "source": [
    "entradas = base_completa[len(base_completa) - len(base_test) - 90:].values\n",
    "entradas = entradas.reshape(-1, 1)\n",
    "entradas = normalizador.transform(entradas)\n",
    "\n",
    "\n",
    "x_test = []\n",
    "for i in range(90, 112):\n",
    "    x_test.append(entradas[i-90:i, 0])\n",
    "x_test = np.array(x_test)\n"
   ]
  },
  {
   "cell_type": "code",
   "execution_count": 49,
   "id": "a6f5d915",
   "metadata": {},
   "outputs": [
    {
     "name": "stdout",
     "output_type": "stream",
     "text": [
      "[[0.47141473 0.46317829 0.46463178 ... 0.57122093 0.57655039 0.57655039]\n",
      " [0.46317829 0.46463178 0.45203488 ... 0.57655039 0.57655039 0.5809109 ]\n",
      " [0.46463178 0.45203488 0.46753876 ... 0.57655039 0.5809109  0.59544574]\n",
      " ...\n",
      " [0.55232558 0.56153101 0.56492248 ... 0.68895349 0.73352713 0.74709307]\n",
      " [0.56153101 0.56492248 0.55717054 ... 0.73352713 0.74709307 0.7495155 ]\n",
      " [0.56492248 0.55717054 0.54118217 ... 0.74709307 0.7495155  0.75436047]]\n"
     ]
    }
   ],
   "source": [
    "print(x_test)"
   ]
  },
  {
   "cell_type": "code",
   "execution_count": 50,
   "id": "7b1f538d",
   "metadata": {},
   "outputs": [],
   "source": [
    "x_test = np.reshape(x_test, (x_test.shape[0], x_test.shape[1], 1))"
   ]
  },
  {
   "cell_type": "code",
   "execution_count": 51,
   "id": "f7232984",
   "metadata": {},
   "outputs": [],
   "source": [
    "previsoes = regressor.predict(x_test)\n",
    "previsoes = normalizador.inverse_transform(previsoes)"
   ]
  },
  {
   "cell_type": "code",
   "execution_count": 52,
   "id": "5599812a",
   "metadata": {},
   "outputs": [
    {
     "name": "stdout",
     "output_type": "stream",
     "text": [
      "[[15.90841 ]\n",
      " [15.9595  ]\n",
      " [16.17458 ]\n",
      " [16.470715]\n",
      " [16.526424]\n",
      " [16.52033 ]\n",
      " [16.710629]\n",
      " [16.749247]\n",
      " [16.692533]\n",
      " [16.765518]\n",
      " [17.004517]\n",
      " [17.125761]\n",
      " [17.50851 ]\n",
      " [17.978994]\n",
      " [18.095053]\n",
      " [18.03271 ]\n",
      " [18.09865 ]\n",
      " [18.16453 ]\n",
      " [18.80427 ]\n",
      " [19.269314]\n",
      " [19.362066]\n",
      " [19.408428]]\n"
     ]
    }
   ],
   "source": [
    "print(previsoes)"
   ]
  },
  {
   "cell_type": "code",
   "execution_count": 53,
   "id": "807c3590",
   "metadata": {},
   "outputs": [
    {
     "data": {
      "text/plain": [
       "17.42412"
      ]
     },
     "execution_count": 53,
     "metadata": {},
     "output_type": "execute_result"
    }
   ],
   "source": [
    "previsoes.mean()"
   ]
  },
  {
   "cell_type": "code",
   "execution_count": 54,
   "id": "865538bb",
   "metadata": {},
   "outputs": [
    {
     "data": {
      "text/plain": [
       "17.87454563636364"
      ]
     },
     "execution_count": 54,
     "metadata": {},
     "output_type": "execute_result"
    }
   ],
   "source": [
    "preco_real_teste.mean()"
   ]
  },
  {
   "cell_type": "code",
   "execution_count": 57,
   "id": "840a7c1c",
   "metadata": {},
   "outputs": [
    {
     "data": {
      "text/plain": [
       "0.45042568702281827"
      ]
     },
     "execution_count": 57,
     "metadata": {},
     "output_type": "execute_result"
    }
   ],
   "source": [
    "preco_real_teste.mean() - previsoes.mean()"
   ]
  },
  {
   "cell_type": "markdown",
   "id": "eac1e814",
   "metadata": {},
   "source": [
    "## Plotando os gráficos dos preços reais e estimado pela rede neural"
   ]
  },
  {
   "cell_type": "code",
   "execution_count": 61,
   "id": "bf85ef92",
   "metadata": {},
   "outputs": [
    {
     "data": {
      "image/png": "[encoded data removed]",
      "text/plain": [
       "<Figure size 432x288 with 1 Axes>"
      ]
     },
     "metadata": {
      "needs_background": "light"
     },
     "output_type": "display_data"
    }
   ],
   "source": [
    "plt.plot(preco_real_teste, color=\"red\", label=\"Preços Reais\")\n",
    "plt.plot(previsoes, color=\"blue\", label=\"Previões\")\n",
    "plt.title(\"Previsões preços da ação\")\n",
    "plt.xlabel(\"Tempo\")\n",
    "plt.ylabel(\"Valor Yahoo\")\n",
    "plt.legend()\n",
    "plt.show()"
   ]
  },
  {
   "cell_type": "code",
   "execution_count": null,
   "id": "ffbfd1f3",
   "metadata": {},
   "outputs": [],
   "source": []
  }
 ],
 "metadata": {
  "kernelspec": {
   "display_name": "Python 3",
   "language": "python",
   "name": "python3"
  },
  "language_info": {
   "codemirror_mode": {
    "name": "ipython",
    "version": 3
   },
   "file_extension": ".py",
   "mimetype": "text/x-python",
   "name": "python",
   "nbconvert_exporter": "python",
   "pygments_lexer": "ipython3",
   "version": "3.8.5"
  }
 },
 "nbformat": 4,
 "nbformat_minor": 5
}
