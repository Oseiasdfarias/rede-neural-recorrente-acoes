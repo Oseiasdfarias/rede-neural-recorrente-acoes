{
 "cells": [
  {
   "cell_type": "markdown",
   "id": "0348a311",
   "metadata": {},
   "source": [
    "# Rede Neural Recorrente usando MultPrevisores"
   ]
  },
  {
   "cell_type": "code",
   "execution_count": 27,
   "id": "5b5b8f23",
   "metadata": {},
   "outputs": [],
   "source": [
    "from keras.models import Sequential\n",
    "from keras.layers import Dense, Dropout, LSTM\n",
    "from keras.callbacks import EarlyStopping, ReduceLROnPlateau, ModelCheckpoint\n",
    "from sklearn.preprocessing import MinMaxScaler\n",
    "import numpy as np\n",
    "import pandas as pd \n",
    "import matplotlib.pyplot as plt"
   ]
  },
  {
   "cell_type": "code",
   "execution_count": 18,
   "id": "4d4d4fcc",
   "metadata": {},
   "outputs": [],
   "source": [
    "# Carregando a base de dados \n",
    "base = pd.read_csv(\"petr4_treinamento.csv\")"
   ]
  },
  {
   "cell_type": "code",
   "execution_count": 19,
   "id": "f0e09605",
   "metadata": {},
   "outputs": [
    {
     "data": {
      "text/plain": [
       "(1242, 7)"
      ]
     },
     "execution_count": 19,
     "metadata": {},
     "output_type": "execute_result"
    }
   ],
   "source": [
    "# Removendo registros com valores faltantes\n",
    "base = base.dropna()\n",
    "base.shape"
   ]
  },
  {
   "cell_type": "code",
   "execution_count": 20,
   "id": "d32f60a4",
   "metadata": {},
   "outputs": [],
   "source": [
    "# criando a base de dados para treinamento multprevisores\n",
    "base_train = base.iloc[:, 1:7].values\n"
   ]
  },
  {
   "cell_type": "markdown",
   "id": "1869e6f7",
   "metadata": {},
   "source": [
    "## Normalizando os valores da base de treino"
   ]
  },
  {
   "cell_type": "code",
   "execution_count": 47,
   "id": "32e35f09",
   "metadata": {},
   "outputs": [
    {
     "data": {
      "text/plain": [
       "array([[0.76501938, 0.77266112, 0.79682707, 0.76080559, 0.6838135 ,\n",
       "        0.04318274],\n",
       "       [0.7562984 , 0.78187106, 0.79733884, 0.79567784, 0.71590949,\n",
       "        0.0437121 ],\n",
       "       [0.78149225, 0.79253519, 0.82139202, 0.79715132, 0.71726583,\n",
       "        0.05170752],\n",
       "       ...,\n",
       "       [0.57122093, 0.57537562, 0.60696008, 0.58202356, 0.58202349,\n",
       "        0.03369652],\n",
       "       [0.57655039, 0.57489089, 0.60798362, 0.5844794 , 0.58447937,\n",
       "        0.02720006],\n",
       "       [0.57655039, 0.57343674, 0.61310133, 0.5844794 , 0.58447937,\n",
       "        0.        ]])"
      ]
     },
     "execution_count": 47,
     "metadata": {},
     "output_type": "execute_result"
    }
   ],
   "source": [
    "# Instanciando um objeto do modulo sklearn usado para normalização de dados numéricos\n",
    "normalizador = MinMaxScaler(feature_range=(0, 1))\n",
    "\n",
    "# normalizador para as previsões\n",
    "normalizador_previsoes = MinMaxScaler(feature_range=(0, 1))\n",
    "normalizador_previsoes.fit_transform(base_train[:, 0:1])\n",
    "\n",
    "# Aplicando a normalização dos dados\n",
    "base_train_norm = normalizador.fit_transform(base_train)\n",
    "base_train_norm"
   ]
  },
  {
   "cell_type": "markdown",
   "id": "9d26949c",
   "metadata": {},
   "source": [
    "## Colocando os previsores em um formato que uma rede neural recorrente possa ser aplicada"
   ]
  },
  {
   "cell_type": "code",
   "execution_count": 28,
   "id": "ec162755",
   "metadata": {},
   "outputs": [],
   "source": [
    "# Listas\n",
    "previsores = []\n",
    "preco_real = []\n",
    "\n",
    "for i in range(90, 1242):\n",
    "    previsores.append(base_train_norm[i-90: i, 0:6])\n",
    "    preco_real.append(base_train_norm[i, 0])\n",
    "\n",
    "# Transformando as listas em array do numpy\n",
    "previsores, preco_real = np.array(previsores), np.array(preco_real)\n"
   ]
  },
  {
   "cell_type": "markdown",
   "id": "c4d49ccb",
   "metadata": {},
   "source": [
    "## Criando o modelo de rede neural recorrente com keras "
   ]
  },
  {
   "cell_type": "code",
   "execution_count": 29,
   "id": "d0ffbc8d",
   "metadata": {},
   "outputs": [],
   "source": [
    "# Instanciando um objeto Squential, utilizado como estrutura para construir o modelo de rede neural recorrente\n",
    "regressor = Sequential()\n",
    "\n",
    "# Criando a primeira camada LSTM \n",
    "regressor.add(LSTM(units = 100, return_sequences = True, input_shape = (previsores.shape[1], 6)))\n",
    "regressor.add(Dropout(0.3))\n",
    "\n",
    "regressor.add(LSTM(units = 50, return_sequences = True))\n",
    "regressor.add(Dropout(0.3))\n",
    "\n",
    "regressor.add(LSTM(units = 50, return_sequences = True))\n",
    "regressor.add(Dropout(0.3))\n",
    "\n",
    "regressor.add(LSTM(units = 50))\n",
    "regressor.add(Dropout(0.3))\n",
    "\n",
    "regressor.add(Dense(units = 1, activation = \"sigmoid\"))\n",
    "\n",
    "# Compilando o modelo\n",
    "regressor.compile(optimizer = \"rmsprop\",\n",
    "                  loss = \"mean_squared_error\",\n",
    "                 metrics = [\"mean_absolute_error\"])\n"
   ]
  },
  {
   "cell_type": "markdown",
   "id": "dad806ef",
   "metadata": {},
   "source": [
    "### Treinando o modelo"
   ]
  },
  {
   "cell_type": "code",
   "execution_count": 31,
   "id": "25ca852e",
   "metadata": {
    "scrolled": true
   },
   "outputs": [
    {
     "name": "stdout",
     "output_type": "stream",
     "text": [
      "Epoch 1/100\n",
      "36/36 [==============================] - 30s 505ms/step - loss: 0.0292 - mean_absolute_error: 0.1340\n",
      "\n",
      "Epoch 00001: loss improved from inf to 0.01926, saving model to pesos.h5\n",
      "Epoch 2/100\n",
      "36/36 [==============================] - 18s 502ms/step - loss: 0.0074 - mean_absolute_error: 0.0680\n",
      "\n",
      "Epoch 00002: loss improved from 0.01926 to 0.00730, saving model to pesos.h5\n",
      "Epoch 3/100\n",
      "36/36 [==============================] - 17s 486ms/step - loss: 0.0061 - mean_absolute_error: 0.0619\n",
      "\n",
      "Epoch 00003: loss improved from 0.00730 to 0.00602, saving model to pesos.h5\n",
      "Epoch 4/100\n",
      "36/36 [==============================] - 17s 460ms/step - loss: 0.0050 - mean_absolute_error: 0.0543\n",
      "\n",
      "Epoch 00004: loss improved from 0.00602 to 0.00498, saving model to pesos.h5\n",
      "Epoch 5/100\n",
      "36/36 [==============================] - 11s 290ms/step - loss: 0.0047 - mean_absolute_error: 0.0554\n",
      "\n",
      "Epoch 00005: loss improved from 0.00498 to 0.00471, saving model to pesos.h5\n",
      "Epoch 6/100\n",
      "36/36 [==============================] - 12s 339ms/step - loss: 0.0044 - mean_absolute_error: 0.0528\n",
      "\n",
      "Epoch 00006: loss improved from 0.00471 to 0.00420, saving model to pesos.h5\n",
      "Epoch 7/100\n",
      "36/36 [==============================] - 14s 377ms/step - loss: 0.0038 - mean_absolute_error: 0.0473\n",
      "\n",
      "Epoch 00007: loss improved from 0.00420 to 0.00367, saving model to pesos.h5\n",
      "Epoch 8/100\n",
      "36/36 [==============================] - 13s 354ms/step - loss: 0.0037 - mean_absolute_error: 0.0470\n",
      "\n",
      "Epoch 00008: loss improved from 0.00367 to 0.00357, saving model to pesos.h5\n",
      "Epoch 9/100\n",
      "36/36 [==============================] - 15s 428ms/step - loss: 0.0037 - mean_absolute_error: 0.0472\n",
      "\n",
      "Epoch 00009: loss improved from 0.00357 to 0.00334, saving model to pesos.h5\n",
      "Epoch 10/100\n",
      "36/36 [==============================] - 12s 325ms/step - loss: 0.0031 - mean_absolute_error: 0.0433\n",
      "\n",
      "Epoch 00010: loss improved from 0.00334 to 0.00289, saving model to pesos.h5\n",
      "Epoch 11/100\n",
      "36/36 [==============================] - 11s 312ms/step - loss: 0.0028 - mean_absolute_error: 0.0413\n",
      "\n",
      "Epoch 00011: loss improved from 0.00289 to 0.00275, saving model to pesos.h5\n",
      "Epoch 12/100\n",
      "36/36 [==============================] - 15s 420ms/step - loss: 0.0032 - mean_absolute_error: 0.0435\n",
      "\n",
      "Epoch 00012: loss did not improve from 0.00275\n",
      "Epoch 13/100\n",
      "36/36 [==============================] - 15s 402ms/step - loss: 0.0027 - mean_absolute_error: 0.0398\n",
      "\n",
      "Epoch 00013: loss improved from 0.00275 to 0.00254, saving model to pesos.h5\n",
      "Epoch 14/100\n",
      "36/36 [==============================] - 13s 362ms/step - loss: 0.0029 - mean_absolute_error: 0.0425\n",
      "\n",
      "Epoch 00014: loss did not improve from 0.00254\n",
      "Epoch 15/100\n",
      "36/36 [==============================] - 11s 302ms/step - loss: 0.0021 - mean_absolute_error: 0.0348\n",
      "\n",
      "Epoch 00015: loss improved from 0.00254 to 0.00218, saving model to pesos.h5\n",
      "Epoch 16/100\n",
      "36/36 [==============================] - 10s 276ms/step - loss: 0.0023 - mean_absolute_error: 0.0377\n",
      "\n",
      "Epoch 00016: loss did not improve from 0.00218\n",
      "Epoch 17/100\n",
      "36/36 [==============================] - 10s 279ms/step - loss: 0.0025 - mean_absolute_error: 0.0385\n",
      "\n",
      "Epoch 00017: loss did not improve from 0.00218\n",
      "Epoch 18/100\n",
      "36/36 [==============================] - 10s 278ms/step - loss: 0.0025 - mean_absolute_error: 0.0387\n",
      "\n",
      "Epoch 00018: loss did not improve from 0.00218\n",
      "Epoch 19/100\n",
      "36/36 [==============================] - 10s 278ms/step - loss: 0.0021 - mean_absolute_error: 0.0351\n",
      "\n",
      "Epoch 00019: loss improved from 0.00218 to 0.00212, saving model to pesos.h5\n",
      "Epoch 20/100\n",
      "36/36 [==============================] - 10s 279ms/step - loss: 0.0018 - mean_absolute_error: 0.0332\n",
      "\n",
      "Epoch 00020: loss improved from 0.00212 to 0.00187, saving model to pesos.h5\n",
      "Epoch 21/100\n",
      "36/36 [==============================] - 10s 272ms/step - loss: 0.0020 - mean_absolute_error: 0.0342\n",
      "\n",
      "Epoch 00021: loss did not improve from 0.00187\n",
      "Epoch 22/100\n",
      "36/36 [==============================] - 10s 277ms/step - loss: 0.0020 - mean_absolute_error: 0.0334\n",
      "\n",
      "Epoch 00022: loss improved from 0.00187 to 0.00184, saving model to pesos.h5\n",
      "Epoch 23/100\n",
      "36/36 [==============================] - 10s 281ms/step - loss: 0.0018 - mean_absolute_error: 0.0327\n",
      "\n",
      "Epoch 00023: loss improved from 0.00184 to 0.00183, saving model to pesos.h5\n",
      "Epoch 24/100\n",
      "36/36 [==============================] - 10s 288ms/step - loss: 0.0019 - mean_absolute_error: 0.0344\n",
      "\n",
      "Epoch 00024: loss improved from 0.00183 to 0.00174, saving model to pesos.h5\n",
      "Epoch 25/100\n",
      "36/36 [==============================] - 12s 324ms/step - loss: 0.0019 - mean_absolute_error: 0.0327\n",
      "\n",
      "Epoch 00025: loss did not improve from 0.00174\n",
      "Epoch 26/100\n",
      "36/36 [==============================] - 13s 365ms/step - loss: 0.0019 - mean_absolute_error: 0.0325\n",
      "\n",
      "Epoch 00026: loss did not improve from 0.00174\n",
      "Epoch 27/100\n",
      "36/36 [==============================] - 13s 358ms/step - loss: 0.0018 - mean_absolute_error: 0.0329\n",
      "\n",
      "Epoch 00027: loss did not improve from 0.00174\n",
      "Epoch 28/100\n",
      "36/36 [==============================] - 18s 491ms/step - loss: 0.0014 - mean_absolute_error: 0.0289\n",
      "\n",
      "Epoch 00028: loss improved from 0.00174 to 0.00167, saving model to pesos.h5\n",
      "Epoch 29/100\n",
      "36/36 [==============================] - 16s 449ms/step - loss: 0.0016 - mean_absolute_error: 0.0298\n",
      "\n",
      "Epoch 00029: ReduceLROnPlateau reducing learning rate to 0.00020000000949949026.\n",
      "\n",
      "Epoch 00029: loss improved from 0.00167 to 0.00164, saving model to pesos.h5\n",
      "Epoch 30/100\n",
      "36/36 [==============================] - 14s 385ms/step - loss: 0.0011 - mean_absolute_error: 0.0250\n",
      "\n",
      "Epoch 00030: loss improved from 0.00164 to 0.00113, saving model to pesos.h5\n",
      "Epoch 31/100\n",
      "36/36 [==============================] - 10s 268ms/step - loss: 0.0011 - mean_absolute_error: 0.0247\n",
      "\n",
      "Epoch 00031: loss did not improve from 0.00113\n",
      "Epoch 32/100\n",
      "36/36 [==============================] - 9s 246ms/step - loss: 9.8590e-04 - mean_absolute_error: 0.0236\n",
      "\n",
      "Epoch 00032: loss did not improve from 0.00113\n",
      "Epoch 33/100\n",
      "36/36 [==============================] - 8s 233ms/step - loss: 0.0011 - mean_absolute_error: 0.0252\n",
      "\n",
      "Epoch 00033: loss did not improve from 0.00113\n",
      "Epoch 34/100\n",
      "36/36 [==============================] - 9s 235ms/step - loss: 0.0012 - mean_absolute_error: 0.0249\n",
      "\n",
      "Epoch 00034: loss did not improve from 0.00113\n",
      "Epoch 35/100\n",
      "36/36 [==============================] - 8s 231ms/step - loss: 0.0011 - mean_absolute_error: 0.0237\n",
      "\n",
      "Epoch 00035: ReduceLROnPlateau reducing learning rate to 4.0000001899898055e-05.\n",
      "\n",
      "Epoch 00035: loss improved from 0.00113 to 0.00109, saving model to pesos.h5\n",
      "Epoch 36/100\n",
      "36/36 [==============================] - 9s 242ms/step - loss: 0.0010 - mean_absolute_error: 0.0234\n",
      "\n",
      "Epoch 00036: loss improved from 0.00109 to 0.00107, saving model to pesos.h5\n",
      "Epoch 37/100\n",
      "36/36 [==============================] - 10s 277ms/step - loss: 0.0011 - mean_absolute_error: 0.0246\n",
      "\n",
      "Epoch 00037: loss improved from 0.00107 to 0.00106, saving model to pesos.h5\n",
      "Epoch 38/100\n",
      "36/36 [==============================] - 10s 272ms/step - loss: 9.6559e-04 - mean_absolute_error: 0.0235\n",
      "\n",
      "Epoch 00038: loss improved from 0.00106 to 0.00103, saving model to pesos.h5\n",
      "Epoch 39/100\n",
      "36/36 [==============================] - 9s 239ms/step - loss: 0.0011 - mean_absolute_error: 0.0245\n",
      "\n",
      "Epoch 00039: loss improved from 0.00103 to 0.00103, saving model to pesos.h5\n",
      "Epoch 40/100\n",
      "36/36 [==============================] - 9s 239ms/step - loss: 0.0012 - mean_absolute_error: 0.0255\n",
      "\n",
      "Epoch 00040: loss did not improve from 0.00103\n",
      "Epoch 41/100\n",
      "36/36 [==============================] - 11s 298ms/step - loss: 0.0011 - mean_absolute_error: 0.0250\n",
      "\n",
      "Epoch 00041: loss did not improve from 0.00103\n",
      "Epoch 42/100\n",
      "36/36 [==============================] - 18s 490ms/step - loss: 0.0010 - mean_absolute_error: 0.0236\n",
      "\n",
      "Epoch 00042: loss did not improve from 0.00103\n",
      "Epoch 43/100\n",
      "36/36 [==============================] - 15s 408ms/step - loss: 0.0011 - mean_absolute_error: 0.0244\n",
      "\n",
      "Epoch 00043: loss did not improve from 0.00103\n",
      "Epoch 44/100\n",
      "36/36 [==============================] - 14s 397ms/step - loss: 0.0011 - mean_absolute_error: 0.0245\n",
      "\n",
      "Epoch 00044: ReduceLROnPlateau reducing learning rate to 8.000000525498762e-06.\n",
      "\n",
      "Epoch 00044: loss improved from 0.00103 to 0.00102, saving model to pesos.h5\n",
      "Epoch 45/100\n"
     ]
    },
    {
     "name": "stdout",
     "output_type": "stream",
     "text": [
      "36/36 [==============================] - 20s 558ms/step - loss: 0.0012 - mean_absolute_error: 0.0258\n",
      "\n",
      "Epoch 00045: loss did not improve from 0.00102\n",
      "Epoch 46/100\n",
      "36/36 [==============================] - 22s 611ms/step - loss: 0.0012 - mean_absolute_error: 0.0242\n",
      "\n",
      "Epoch 00046: loss did not improve from 0.00102\n",
      "Epoch 47/100\n",
      "36/36 [==============================] - 20s 563ms/step - loss: 0.0011 - mean_absolute_error: 0.0241\n",
      "\n",
      "Epoch 00047: loss improved from 0.00102 to 0.00102, saving model to pesos.h5\n",
      "Epoch 48/100\n",
      "36/36 [==============================] - 16s 447ms/step - loss: 0.0011 - mean_absolute_error: 0.0237\n",
      "\n",
      "Epoch 00048: loss did not improve from 0.00102\n",
      "Epoch 49/100\n",
      "36/36 [==============================] - 15s 425ms/step - loss: 0.0011 - mean_absolute_error: 0.0248\n",
      "\n",
      "Epoch 00049: ReduceLROnPlateau reducing learning rate to 1.6000001778593287e-06.\n",
      "\n",
      "Epoch 00049: loss improved from 0.00102 to 0.00099, saving model to pesos.h5\n",
      "Epoch 50/100\n",
      "36/36 [==============================] - 16s 449ms/step - loss: 9.7132e-04 - mean_absolute_error: 0.0230\n",
      "\n",
      "Epoch 00050: loss did not improve from 0.00099\n",
      "Epoch 51/100\n",
      "36/36 [==============================] - 12s 331ms/step - loss: 0.0010 - mean_absolute_error: 0.0240\n",
      "\n",
      "Epoch 00051: loss did not improve from 0.00099\n",
      "Epoch 52/100\n",
      "36/36 [==============================] - 9s 248ms/step - loss: 0.0010 - mean_absolute_error: 0.0239\n",
      "\n",
      "Epoch 00052: loss did not improve from 0.00099\n",
      "Epoch 53/100\n",
      "36/36 [==============================] - 10s 265ms/step - loss: 0.0010 - mean_absolute_error: 0.0237\n",
      "\n",
      "Epoch 00053: loss did not improve from 0.00099\n",
      "Epoch 54/100\n",
      "36/36 [==============================] - 9s 256ms/step - loss: 0.0011 - mean_absolute_error: 0.0240\n",
      "\n",
      "Epoch 00054: ReduceLROnPlateau reducing learning rate to 3.200000264769187e-07.\n",
      "\n",
      "Epoch 00054: loss did not improve from 0.00099\n",
      "Epoch 55/100\n",
      "36/36 [==============================] - 12s 348ms/step - loss: 0.0011 - mean_absolute_error: 0.0239\n",
      "\n",
      "Epoch 00055: loss did not improve from 0.00099\n",
      "Epoch 56/100\n",
      "36/36 [==============================] - 10s 269ms/step - loss: 0.0010 - mean_absolute_error: 0.0237\n",
      "\n",
      "Epoch 00056: loss did not improve from 0.00099\n",
      "Epoch 57/100\n",
      "36/36 [==============================] - 9s 240ms/step - loss: 0.0010 - mean_absolute_error: 0.0237\n",
      "\n",
      "Epoch 00057: loss did not improve from 0.00099\n",
      "Epoch 58/100\n",
      "36/36 [==============================] - 8s 222ms/step - loss: 9.1314e-04 - mean_absolute_error: 0.0227\n",
      "\n",
      "Epoch 00058: loss improved from 0.00099 to 0.00096, saving model to pesos.h5\n",
      "Epoch 59/100\n",
      "36/36 [==============================] - 8s 218ms/step - loss: 0.0011 - mean_absolute_error: 0.0239\n",
      "\n",
      "Epoch 00059: ReduceLROnPlateau reducing learning rate to 6.400000529538374e-08.\n",
      "\n",
      "Epoch 00059: loss did not improve from 0.00096\n",
      "Epoch 60/100\n",
      "36/36 [==============================] - 8s 229ms/step - loss: 0.0010 - mean_absolute_error: 0.0236\n",
      "\n",
      "Epoch 00060: loss improved from 0.00096 to 0.00096, saving model to pesos.h5\n",
      "Epoch 61/100\n",
      "36/36 [==============================] - 8s 221ms/step - loss: 9.9929e-04 - mean_absolute_error: 0.0232\n",
      "\n",
      "Epoch 00061: loss did not improve from 0.00096\n",
      "Epoch 62/100\n",
      "36/36 [==============================] - 8s 220ms/step - loss: 0.0012 - mean_absolute_error: 0.0242\n",
      "\n",
      "Epoch 00062: loss did not improve from 0.00096\n",
      "Epoch 63/100\n",
      "36/36 [==============================] - 8s 219ms/step - loss: 9.2615e-04 - mean_absolute_error: 0.0220\n",
      "\n",
      "Epoch 00063: loss did not improve from 0.00096\n",
      "Epoch 64/100\n",
      "36/36 [==============================] - 8s 219ms/step - loss: 0.0010 - mean_absolute_error: 0.0236\n",
      "\n",
      "Epoch 00064: ReduceLROnPlateau reducing learning rate to 1.2800001059076749e-08.\n",
      "\n",
      "Epoch 00064: loss did not improve from 0.00096\n",
      "Epoch 65/100\n",
      "36/36 [==============================] - 8s 220ms/step - loss: 0.0011 - mean_absolute_error: 0.0236\n",
      "\n",
      "Epoch 00065: loss did not improve from 0.00096\n",
      "Epoch 66/100\n",
      "36/36 [==============================] - 8s 220ms/step - loss: 9.6943e-04 - mean_absolute_error: 0.0231\n",
      "\n",
      "Epoch 00066: loss did not improve from 0.00096\n",
      "Epoch 67/100\n",
      "36/36 [==============================] - 8s 218ms/step - loss: 9.8880e-04 - mean_absolute_error: 0.0239\n",
      "\n",
      "Epoch 00067: loss did not improve from 0.00096\n",
      "Epoch 68/100\n",
      "36/36 [==============================] - 8s 219ms/step - loss: 0.0011 - mean_absolute_error: 0.0238\n",
      "\n",
      "Epoch 00068: loss did not improve from 0.00096\n",
      "Epoch 69/100\n",
      "36/36 [==============================] - 8s 218ms/step - loss: 0.0011 - mean_absolute_error: 0.0238\n",
      "\n",
      "Epoch 00069: ReduceLROnPlateau reducing learning rate to 2.5600002118153498e-09.\n",
      "\n",
      "Epoch 00069: loss did not improve from 0.00096\n",
      "Epoch 70/100\n",
      "36/36 [==============================] - 8s 217ms/step - loss: 9.2572e-04 - mean_absolute_error: 0.0221\n",
      "\n",
      "Epoch 00070: loss did not improve from 0.00096\n",
      "Epoch 00070: early stopping\n"
     ]
    },
    {
     "data": {
      "text/plain": [
       "<tensorflow.python.keras.callbacks.History at 0x7f231419fb20>"
      ]
     },
     "execution_count": 31,
     "metadata": {},
     "output_type": "execute_result"
    }
   ],
   "source": [
    "# Configurando os hiperparâmetros do modelo\n",
    "es = EarlyStopping(monitor=\"loss\", min_delta=1e-10, patience=10, verbose=1)\n",
    "rlr = ReduceLROnPlateau(monitor = \"loss\", factor = 0.2, patience = 5, verbose = 1)\n",
    "mcp = ModelCheckpoint(filepath=\"pesos.h5\", monitor=\"loss\", save_best_only=True, verbose = 1)\n",
    "\n",
    "# Treinando o modelo\n",
    "regressor.fit(previsores,\n",
    "              preco_real,\n",
    "              epochs=100,\n",
    "              batch_size = 32,\n",
    "              callbacks=[es, rlr, mcp])\n"
   ]
  },
  {
   "cell_type": "markdown",
   "id": "65b0dd03",
   "metadata": {},
   "source": [
    "# Carregando base de dados de teste"
   ]
  },
  {
   "cell_type": "code",
   "execution_count": 33,
   "id": "a1c89f07",
   "metadata": {},
   "outputs": [
    {
     "data": {
      "text/html": [
       "<div>\n",
       "<style scoped>\n",
       "    .dataframe tbody tr th:only-of-type {\n",
       "        vertical-align: middle;\n",
       "    }\n",
       "\n",
       "    .dataframe tbody tr th {\n",
       "        vertical-align: top;\n",
       "    }\n",
       "\n",
       "    .dataframe thead th {\n",
       "        text-align: right;\n",
       "    }\n",
       "</style>\n",
       "<table border=\"1\" class=\"dataframe\">\n",
       "  <thead>\n",
       "    <tr style=\"text-align: right;\">\n",
       "      <th></th>\n",
       "      <th>Date</th>\n",
       "      <th>Open</th>\n",
       "      <th>High</th>\n",
       "      <th>Low</th>\n",
       "      <th>Close</th>\n",
       "      <th>Adj Close</th>\n",
       "      <th>Volume</th>\n",
       "    </tr>\n",
       "  </thead>\n",
       "  <tbody>\n",
       "    <tr>\n",
       "      <th>0</th>\n",
       "      <td>2018-01-02</td>\n",
       "      <td>16.190001</td>\n",
       "      <td>16.549999</td>\n",
       "      <td>16.190001</td>\n",
       "      <td>16.549999</td>\n",
       "      <td>16.516966</td>\n",
       "      <td>33461800</td>\n",
       "    </tr>\n",
       "    <tr>\n",
       "      <th>1</th>\n",
       "      <td>2018-01-03</td>\n",
       "      <td>16.490000</td>\n",
       "      <td>16.719999</td>\n",
       "      <td>16.370001</td>\n",
       "      <td>16.700001</td>\n",
       "      <td>16.666668</td>\n",
       "      <td>55940900</td>\n",
       "    </tr>\n",
       "    <tr>\n",
       "      <th>2</th>\n",
       "      <td>2018-01-04</td>\n",
       "      <td>16.780001</td>\n",
       "      <td>16.959999</td>\n",
       "      <td>16.620001</td>\n",
       "      <td>16.730000</td>\n",
       "      <td>16.696608</td>\n",
       "      <td>37064900</td>\n",
       "    </tr>\n",
       "    <tr>\n",
       "      <th>3</th>\n",
       "      <td>2018-01-05</td>\n",
       "      <td>16.700001</td>\n",
       "      <td>16.860001</td>\n",
       "      <td>16.570000</td>\n",
       "      <td>16.830000</td>\n",
       "      <td>16.796408</td>\n",
       "      <td>26958200</td>\n",
       "    </tr>\n",
       "    <tr>\n",
       "      <th>4</th>\n",
       "      <td>2018-01-08</td>\n",
       "      <td>16.740000</td>\n",
       "      <td>17.030001</td>\n",
       "      <td>16.709999</td>\n",
       "      <td>17.030001</td>\n",
       "      <td>16.996010</td>\n",
       "      <td>28400000</td>\n",
       "    </tr>\n",
       "  </tbody>\n",
       "</table>\n",
       "</div>"
      ],
      "text/plain": [
       "         Date       Open       High        Low      Close  Adj Close    Volume\n",
       "0  2018-01-02  16.190001  16.549999  16.190001  16.549999  16.516966  33461800\n",
       "1  2018-01-03  16.490000  16.719999  16.370001  16.700001  16.666668  55940900\n",
       "2  2018-01-04  16.780001  16.959999  16.620001  16.730000  16.696608  37064900\n",
       "3  2018-01-05  16.700001  16.860001  16.570000  16.830000  16.796408  26958200\n",
       "4  2018-01-08  16.740000  17.030001  16.709999  17.030001  16.996010  28400000"
      ]
     },
     "execution_count": 33,
     "metadata": {},
     "output_type": "execute_result"
    }
   ],
   "source": [
    "base_test = pd.read_csv(\"petr4_teste.csv\")\n",
    "base_test.head()"
   ]
  },
  {
   "cell_type": "code",
   "execution_count": 38,
   "id": "47db8d85",
   "metadata": {},
   "outputs": [],
   "source": [
    "# Pegando os valores de da coluna Open\n",
    "preco_real_test = base_test.iloc[:, 1:2].values\n",
    "\n",
    "# Concatenando os dados de teste com os dados de treino\n",
    "frames = [base, base_test]\n",
    "base_completa = pd.concat(frames)"
   ]
  },
  {
   "cell_type": "code",
   "execution_count": 40,
   "id": "b80ea3d2",
   "metadata": {},
   "outputs": [],
   "source": [
    "# Removendo a coluna date\n",
    "base_completa = base_completa.drop(\"Date\", axis = 1)"
   ]
  },
  {
   "cell_type": "code",
   "execution_count": 49,
   "id": "774b234f",
   "metadata": {},
   "outputs": [],
   "source": [
    "# colocando os dados no formato  correto para a rede neural recorrente\n",
    "entradas = base_completa[len(base_completa) - len(base_test) - 90: ].values\n",
    "\n",
    "# Normalizando as entradas\n",
    "entradas = normalizador.transform(entradas)\n",
    "\n",
    "x_test = []\n",
    "for i in range(90, 112):\n",
    "    x_test.append(entradas[i-90:i, 0:6])\n",
    "\n",
    "# Convertendo para um objeto numpy array\n",
    "x_test = np.array(x_test)"
   ]
  },
  {
   "cell_type": "code",
   "execution_count": 50,
   "id": "3cee5155",
   "metadata": {},
   "outputs": [
    {
     "data": {
      "text/plain": [
       "(22, 90, 6)"
      ]
     },
     "execution_count": 50,
     "metadata": {},
     "output_type": "execute_result"
    }
   ],
   "source": [
    "x_test.shape"
   ]
  },
  {
   "cell_type": "markdown",
   "id": "85f635a7",
   "metadata": {},
   "source": [
    "# Fazendo as previsões usando o modelo treinado "
   ]
  },
  {
   "cell_type": "code",
   "execution_count": 52,
   "id": "39d66fc8",
   "metadata": {},
   "outputs": [],
   "source": [
    "# obtendo as previsões\n",
    "previsoes = regressor.predict(x_test)\n",
    "\n",
    "# desfazendo a normalização aplicada as dados anteriormente, apra obter os valores reais \n",
    "previsoes = normalizador_previsoes.inverse_transform(previsoes)"
   ]
  },
  {
   "cell_type": "markdown",
   "id": "ffe727d8",
   "metadata": {},
   "source": [
    " "
   ]
  },
  {
   "cell_type": "markdown",
   "id": "e00690a3",
   "metadata": {},
   "source": [
    "## Visoalizando os resultados"
   ]
  },
  {
   "cell_type": "code",
   "execution_count": 53,
   "id": "1e807ed9",
   "metadata": {},
   "outputs": [
    {
     "data": {
      "text/plain": [
       "17.693117"
      ]
     },
     "execution_count": 53,
     "metadata": {},
     "output_type": "execute_result"
    }
   ],
   "source": [
    "previsoes.mean()"
   ]
  },
  {
   "cell_type": "code",
   "execution_count": 54,
   "id": "b3d34d16",
   "metadata": {
    "scrolled": true
   },
   "outputs": [
    {
     "data": {
      "text/plain": [
       "17.87454563636364"
      ]
     },
     "execution_count": 54,
     "metadata": {},
     "output_type": "execute_result"
    }
   ],
   "source": [
    "preco_real_test.mean()"
   ]
  },
  {
   "cell_type": "code",
   "execution_count": 55,
   "id": "6b081de5",
   "metadata": {},
   "outputs": [
    {
     "data": {
      "image/png": "[encoded data removed]",
      "text/plain": [
       "<Figure size 432x288 with 1 Axes>"
      ]
     },
     "metadata": {
      "needs_background": "light"
     },
     "output_type": "display_data"
    }
   ],
   "source": [
    "# plotando os gráficos das previsões e do valor real\n",
    "plt.plot(preco_real_test, color=\"red\", label= \"Preço real\")\n",
    "plt.plot(previsoes, color=\"blue\", label=\"Previsões\")\n",
    "plt.title(\"Previsão dos preços das ações\")\n",
    "plt.xlabel(\"Tempo\")\n",
    "plt.ylabel(\"Valor Yahoo\")\n",
    "plt.legend()\n",
    "plt.show()"
   ]
  },
  {
   "cell_type": "code",
   "execution_count": null,
   "id": "fda3e216",
   "metadata": {},
   "outputs": [],
   "source": []
  }
 ],
 "metadata": {
  "kernelspec": {
   "display_name": "Python 3",
   "language": "python",
   "name": "python3"
  },
  "language_info": {
   "codemirror_mode": {
    "name": "ipython",
    "version": 3
   },
   "file_extension": ".py",
   "mimetype": "text/x-python",
   "name": "python",
   "nbconvert_exporter": "python",
   "pygments_lexer": "ipython3",
   "version": "3.8.5"
  }
 },
 "nbformat": 4,
 "nbformat_minor": 5
}
