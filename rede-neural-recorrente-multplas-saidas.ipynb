{
 "cells": [
  {
   "cell_type": "markdown",
   "id": "96607435",
   "metadata": {},
   "source": [
    "# Rede Neural Recorrente usando dados da Bolsa de valores\n"
   ]
  },
  {
   "cell_type": "code",
   "execution_count": 1,
   "id": "6916acf4",
   "metadata": {},
   "outputs": [],
   "source": [
    "from keras.models import Sequential\n",
    "from keras.layers import Dense, Dropout, LSTM\n",
    "from sklearn.preprocessing import MinMaxScaler\n",
    "import numpy as np\n",
    "import pandas as pd\n",
    "import matplotlib.pyplot as plt"
   ]
  },
  {
   "cell_type": "code",
   "execution_count": 2,
   "id": "68ec060c",
   "metadata": {},
   "outputs": [],
   "source": [
    "base = pd.read_csv(\"petr4_treinamento.csv\")"
   ]
  },
  {
   "cell_type": "code",
   "execution_count": 3,
   "id": "ab8c7fb8",
   "metadata": {},
   "outputs": [
    {
     "data": {
      "text/html": [
       "<div>\n",
       "<style scoped>\n",
       "    .dataframe tbody tr th:only-of-type {\n",
       "        vertical-align: middle;\n",
       "    }\n",
       "\n",
       "    .dataframe tbody tr th {\n",
       "        vertical-align: top;\n",
       "    }\n",
       "\n",
       "    .dataframe thead th {\n",
       "        text-align: right;\n",
       "    }\n",
       "</style>\n",
       "<table border=\"1\" class=\"dataframe\">\n",
       "  <thead>\n",
       "    <tr style=\"text-align: right;\">\n",
       "      <th></th>\n",
       "      <th>Date</th>\n",
       "      <th>Open</th>\n",
       "      <th>High</th>\n",
       "      <th>Low</th>\n",
       "      <th>Close</th>\n",
       "      <th>Adj Close</th>\n",
       "      <th>Volume</th>\n",
       "    </tr>\n",
       "  </thead>\n",
       "  <tbody>\n",
       "    <tr>\n",
       "      <th>0</th>\n",
       "      <td>2013-01-02</td>\n",
       "      <td>19.990000</td>\n",
       "      <td>20.209999</td>\n",
       "      <td>19.690001</td>\n",
       "      <td>19.690001</td>\n",
       "      <td>18.086271</td>\n",
       "      <td>30182600.0</td>\n",
       "    </tr>\n",
       "    <tr>\n",
       "      <th>1</th>\n",
       "      <td>2013-01-03</td>\n",
       "      <td>19.809999</td>\n",
       "      <td>20.400000</td>\n",
       "      <td>19.700001</td>\n",
       "      <td>20.400000</td>\n",
       "      <td>18.738441</td>\n",
       "      <td>30552600.0</td>\n",
       "    </tr>\n",
       "    <tr>\n",
       "      <th>2</th>\n",
       "      <td>2013-01-04</td>\n",
       "      <td>20.330000</td>\n",
       "      <td>20.620001</td>\n",
       "      <td>20.170000</td>\n",
       "      <td>20.430000</td>\n",
       "      <td>18.766001</td>\n",
       "      <td>36141000.0</td>\n",
       "    </tr>\n",
       "    <tr>\n",
       "      <th>3</th>\n",
       "      <td>2013-01-07</td>\n",
       "      <td>20.480000</td>\n",
       "      <td>20.670000</td>\n",
       "      <td>19.950001</td>\n",
       "      <td>20.080000</td>\n",
       "      <td>18.444506</td>\n",
       "      <td>28069600.0</td>\n",
       "    </tr>\n",
       "    <tr>\n",
       "      <th>4</th>\n",
       "      <td>2013-01-08</td>\n",
       "      <td>20.110001</td>\n",
       "      <td>20.230000</td>\n",
       "      <td>19.459999</td>\n",
       "      <td>19.500000</td>\n",
       "      <td>17.911745</td>\n",
       "      <td>29091300.0</td>\n",
       "    </tr>\n",
       "  </tbody>\n",
       "</table>\n",
       "</div>"
      ],
      "text/plain": [
       "         Date       Open       High        Low      Close  Adj Close  \\\n",
       "0  2013-01-02  19.990000  20.209999  19.690001  19.690001  18.086271   \n",
       "1  2013-01-03  19.809999  20.400000  19.700001  20.400000  18.738441   \n",
       "2  2013-01-04  20.330000  20.620001  20.170000  20.430000  18.766001   \n",
       "3  2013-01-07  20.480000  20.670000  19.950001  20.080000  18.444506   \n",
       "4  2013-01-08  20.110001  20.230000  19.459999  19.500000  17.911745   \n",
       "\n",
       "       Volume  \n",
       "0  30182600.0  \n",
       "1  30552600.0  \n",
       "2  36141000.0  \n",
       "3  28069600.0  \n",
       "4  29091300.0  "
      ]
     },
     "execution_count": 3,
     "metadata": {},
     "output_type": "execute_result"
    }
   ],
   "source": [
    "base.head()"
   ]
  },
  {
   "cell_type": "code",
   "execution_count": 4,
   "id": "2ba92eb1",
   "metadata": {},
   "outputs": [],
   "source": [
    "base = base.dropna()"
   ]
  },
  {
   "cell_type": "markdown",
   "id": "be3dae30",
   "metadata": {},
   "source": [
    "# Base de Treinamento usando a coluna Open do dataset"
   ]
  },
  {
   "cell_type": "code",
   "execution_count": 7,
   "id": "2c584425",
   "metadata": {},
   "outputs": [],
   "source": [
    "base_treinamento = base.iloc[:, 1:2].values\n",
    "base_valor_maximo = base.iloc[:, 2:3].values"
   ]
  },
  {
   "cell_type": "markdown",
   "id": "a3640e25",
   "metadata": {},
   "source": [
    "### Vamos aplicar a normalização dos dados para que a rede neural recorrente seja mais rápida no treinamento"
   ]
  },
  {
   "cell_type": "code",
   "execution_count": 10,
   "id": "ce16a880",
   "metadata": {},
   "outputs": [],
   "source": [
    "normalizador = MinMaxScaler(feature_range=(0,1))\n",
    "base_train_norm = normalizador.fit_transform(base_treinamento)\n",
    "base_valor_maximo_norm = normalizador.fit_transform(base_valor_maximo)"
   ]
  },
  {
   "cell_type": "markdown",
   "id": "3b8f7195",
   "metadata": {},
   "source": [
    "## Estrutura da base de dados para a rede neural recorrente"
   ]
  },
  {
   "cell_type": "code",
   "execution_count": 11,
   "id": "854d5420",
   "metadata": {},
   "outputs": [],
   "source": [
    "previsores = []\n",
    "preco_real1 = []\n",
    "preco_real2 = []\n",
    "\n",
    "for i in range(90, 1242):\n",
    "\n",
    "    previsores.append(base_train_norm[i-90:i, 0])\n",
    "    preco_real1.append(base_train_norm[i,0])\n",
    "    preco_real2.append(base_valor_maximo_norm[i, 0])\n",
    "    \n",
    "previsores, preco_real1, preco_real2 = np.array(previsores), np.array(preco_real1), np.array(preco_real2)\n",
    "previsores = np.reshape(previsores, (previsores.shape[0], previsores.shape[1], 1))\n",
    "\n"
   ]
  },
  {
   "cell_type": "code",
   "execution_count": 12,
   "id": "d6b15805",
   "metadata": {},
   "outputs": [
    {
     "data": {
      "text/plain": [
       "(1152, 90, 1)"
      ]
     },
     "execution_count": 12,
     "metadata": {},
     "output_type": "execute_result"
    }
   ],
   "source": [
    "previsores.shape[0:3]"
   ]
  },
  {
   "cell_type": "markdown",
   "id": "436dd3b6",
   "metadata": {},
   "source": [
    "## juntando os vetores preco_real1 e preco_real2"
   ]
  },
  {
   "cell_type": "code",
   "execution_count": 17,
   "id": "92abfdd3",
   "metadata": {},
   "outputs": [
    {
     "data": {
      "text/plain": [
       "array([[0.76114341, 0.76490543],\n",
       "       [0.76114341, 0.7746001 ],\n",
       "       [0.77470935, 0.78090155],\n",
       "       ...,\n",
       "       [0.57122093, 0.57537562],\n",
       "       [0.57655039, 0.57489089],\n",
       "       [0.57655039, 0.57343674]])"
      ]
     },
     "execution_count": 17,
     "metadata": {},
     "output_type": "execute_result"
    }
   ],
   "source": [
    "preco_real = np.column_stack((preco_real1, preco_real2))\n",
    "preco_real"
   ]
  },
  {
   "cell_type": "markdown",
   "id": "d916ff7d",
   "metadata": {},
   "source": [
    "## Implementação da estrutura da rede eural recorrente para fazer a previsão "
   ]
  },
  {
   "cell_type": "code",
   "execution_count": 18,
   "id": "c647f221",
   "metadata": {},
   "outputs": [],
   "source": [
    "regressor = Sequential()\n",
    "regressor.add(LSTM(units=100, return_sequences = True, input_shape = (previsores.shape[1], 1)))\n",
    "regressor.add(Dropout(0.3))\n",
    "\n",
    "regressor.add(LSTM(units=50, return_sequences=True))\n",
    "regressor.add(Dropout(0.3))\n",
    "\n",
    "regressor.add(LSTM(units=50, return_sequences=True))\n",
    "regressor.add(Dropout(0.3))\n",
    "\n",
    "regressor.add(LSTM(units=50))\n",
    "regressor.add(Dropout(0.3))\n",
    "\n",
    "regressor.add(Dense(units=2, activation=\"linear\"))\n",
    "\n"
   ]
  },
  {
   "cell_type": "code",
   "execution_count": 19,
   "id": "2b0ea565",
   "metadata": {},
   "outputs": [
    {
     "name": "stdout",
     "output_type": "stream",
     "text": [
      "Model: \"sequential\"\n",
      "_________________________________________________________________\n",
      "Layer (type)                 Output Shape              Param #   \n",
      "=================================================================\n",
      "lstm (LSTM)                  (None, 90, 100)           40800     \n",
      "_________________________________________________________________\n",
      "dropout (Dropout)            (None, 90, 100)           0         \n",
      "_________________________________________________________________\n",
      "lstm_1 (LSTM)                (None, 90, 50)            30200     \n",
      "_________________________________________________________________\n",
      "dropout_1 (Dropout)          (None, 90, 50)            0         \n",
      "_________________________________________________________________\n",
      "lstm_2 (LSTM)                (None, 90, 50)            20200     \n",
      "_________________________________________________________________\n",
      "dropout_2 (Dropout)          (None, 90, 50)            0         \n",
      "_________________________________________________________________\n",
      "lstm_3 (LSTM)                (None, 50)                20200     \n",
      "_________________________________________________________________\n",
      "dropout_3 (Dropout)          (None, 50)                0         \n",
      "_________________________________________________________________\n",
      "dense (Dense)                (None, 2)                 102       \n",
      "=================================================================\n",
      "Total params: 111,502\n",
      "Trainable params: 111,502\n",
      "Non-trainable params: 0\n",
      "_________________________________________________________________\n"
     ]
    }
   ],
   "source": [
    "regressor.compile(optimizer=\"rmsprop\",\n",
    "                  loss=\"mean_squared_error\",\n",
    "                 metrics=[\"mean_absolute_error\"])\n",
    "\n",
    "regressor.summary()"
   ]
  },
  {
   "cell_type": "code",
   "execution_count": 20,
   "id": "d7292260",
   "metadata": {
    "scrolled": true
   },
   "outputs": [
    {
     "name": "stdout",
     "output_type": "stream",
     "text": [
      "Epoch 1/100\n",
      "36/36 [==============================] - 34s 427ms/step - loss: 0.0722 - mean_absolute_error: 0.2026\n",
      "Epoch 2/100\n",
      "36/36 [==============================] - 10s 283ms/step - loss: 0.0156 - mean_absolute_error: 0.0976\n",
      "Epoch 3/100\n",
      "36/36 [==============================] - 9s 237ms/step - loss: 0.0123 - mean_absolute_error: 0.0873\n",
      "Epoch 4/100\n",
      "36/36 [==============================] - 8s 219ms/step - loss: 0.0151 - mean_absolute_error: 0.0962\n",
      "Epoch 5/100\n",
      "36/36 [==============================] - 8s 219ms/step - loss: 0.0132 - mean_absolute_error: 0.0884\n",
      "Epoch 6/100\n",
      "36/36 [==============================] - 8s 222ms/step - loss: 0.0106 - mean_absolute_error: 0.0797\n",
      "Epoch 7/100\n",
      "36/36 [==============================] - 8s 228ms/step - loss: 0.0099 - mean_absolute_error: 0.0746\n",
      "Epoch 8/100\n",
      "36/36 [==============================] - 8s 226ms/step - loss: 0.0089 - mean_absolute_error: 0.0710\n",
      "Epoch 9/100\n",
      "36/36 [==============================] - 8s 225ms/step - loss: 0.0075 - mean_absolute_error: 0.0665\n",
      "Epoch 10/100\n",
      "36/36 [==============================] - 8s 221ms/step - loss: 0.0075 - mean_absolute_error: 0.0652\n",
      "Epoch 11/100\n",
      "36/36 [==============================] - 8s 225ms/step - loss: 0.0058 - mean_absolute_error: 0.0574\n",
      "Epoch 12/100\n",
      "36/36 [==============================] - 8s 219ms/step - loss: 0.0075 - mean_absolute_error: 0.0653\n",
      "Epoch 13/100\n",
      "36/36 [==============================] - 8s 220ms/step - loss: 0.0058 - mean_absolute_error: 0.0586\n",
      "Epoch 14/100\n",
      "36/36 [==============================] - 8s 219ms/step - loss: 0.0058 - mean_absolute_error: 0.0580\n",
      "Epoch 15/100\n",
      "36/36 [==============================] - 8s 218ms/step - loss: 0.0064 - mean_absolute_error: 0.0620\n",
      "Epoch 16/100\n",
      "36/36 [==============================] - 8s 220ms/step - loss: 0.0056 - mean_absolute_error: 0.0557\n",
      "Epoch 17/100\n",
      "36/36 [==============================] - 8s 219ms/step - loss: 0.0066 - mean_absolute_error: 0.0621\n",
      "Epoch 18/100\n",
      "36/36 [==============================] - 8s 219ms/step - loss: 0.0053 - mean_absolute_error: 0.0562\n",
      "Epoch 19/100\n",
      "36/36 [==============================] - 9s 264ms/step - loss: 0.0051 - mean_absolute_error: 0.0539\n",
      "Epoch 20/100\n",
      "36/36 [==============================] - 10s 271ms/step - loss: 0.0046 - mean_absolute_error: 0.0520\n",
      "Epoch 21/100\n",
      "36/36 [==============================] - 9s 232ms/step - loss: 0.0043 - mean_absolute_error: 0.0495\n",
      "Epoch 22/100\n",
      "36/36 [==============================] - 8s 222ms/step - loss: 0.0040 - mean_absolute_error: 0.0486\n",
      "Epoch 23/100\n",
      "36/36 [==============================] - 8s 220ms/step - loss: 0.0043 - mean_absolute_error: 0.0486\n",
      "Epoch 24/100\n",
      "36/36 [==============================] - 8s 220ms/step - loss: 0.0040 - mean_absolute_error: 0.0475\n",
      "Epoch 25/100\n",
      "36/36 [==============================] - 8s 220ms/step - loss: 0.0036 - mean_absolute_error: 0.0451\n",
      "Epoch 26/100\n",
      "36/36 [==============================] - 9s 261ms/step - loss: 0.0038 - mean_absolute_error: 0.0472\n",
      "Epoch 27/100\n",
      "36/36 [==============================] - 12s 323ms/step - loss: 0.0033 - mean_absolute_error: 0.0438\n",
      "Epoch 28/100\n",
      "36/36 [==============================] - 18s 487ms/step - loss: 0.0035 - mean_absolute_error: 0.0427\n",
      "Epoch 29/100\n",
      "36/36 [==============================] - 11s 292ms/step - loss: 0.0030 - mean_absolute_error: 0.0425\n",
      "Epoch 30/100\n",
      "36/36 [==============================] - 10s 290ms/step - loss: 0.0030 - mean_absolute_error: 0.0418\n",
      "Epoch 31/100\n",
      "36/36 [==============================] - 9s 250ms/step - loss: 0.0033 - mean_absolute_error: 0.0446\n",
      "Epoch 32/100\n",
      "36/36 [==============================] - 11s 294ms/step - loss: 0.0031 - mean_absolute_error: 0.0428\n",
      "Epoch 33/100\n",
      "36/36 [==============================] - 13s 353ms/step - loss: 0.0031 - mean_absolute_error: 0.0436\n",
      "Epoch 34/100\n",
      "36/36 [==============================] - 8s 221ms/step - loss: 0.0029 - mean_absolute_error: 0.0405\n",
      "Epoch 35/100\n",
      "36/36 [==============================] - 8s 221ms/step - loss: 0.0034 - mean_absolute_error: 0.0443\n",
      "Epoch 36/100\n",
      "36/36 [==============================] - 9s 260ms/step - loss: 0.0035 - mean_absolute_error: 0.0436\n",
      "Epoch 37/100\n",
      "36/36 [==============================] - 11s 314ms/step - loss: 0.0027 - mean_absolute_error: 0.0403\n",
      "Epoch 38/100\n",
      "36/36 [==============================] - 11s 301ms/step - loss: 0.0026 - mean_absolute_error: 0.0382\n",
      "Epoch 39/100\n",
      "36/36 [==============================] - 9s 255ms/step - loss: 0.0028 - mean_absolute_error: 0.0407\n",
      "Epoch 40/100\n",
      "36/36 [==============================] - 9s 262ms/step - loss: 0.0026 - mean_absolute_error: 0.0385\n",
      "Epoch 41/100\n",
      "36/36 [==============================] - 15s 426ms/step - loss: 0.0029 - mean_absolute_error: 0.0411\n",
      "Epoch 42/100\n",
      "36/36 [==============================] - 10s 264ms/step - loss: 0.0029 - mean_absolute_error: 0.0410\n",
      "Epoch 43/100\n",
      "36/36 [==============================] - 11s 313ms/step - loss: 0.0019 - mean_absolute_error: 0.0339\n",
      "Epoch 44/100\n",
      "36/36 [==============================] - 9s 262ms/step - loss: 0.0022 - mean_absolute_error: 0.0357\n",
      "Epoch 45/100\n",
      "36/36 [==============================] - 10s 285ms/step - loss: 0.0026 - mean_absolute_error: 0.0384\n",
      "Epoch 46/100\n",
      "36/36 [==============================] - 10s 270ms/step - loss: 0.0024 - mean_absolute_error: 0.0372\n",
      "Epoch 47/100\n",
      "36/36 [==============================] - 9s 249ms/step - loss: 0.0021 - mean_absolute_error: 0.0355\n",
      "Epoch 48/100\n",
      "36/36 [==============================] - 11s 314ms/step - loss: 0.0024 - mean_absolute_error: 0.0372\n",
      "Epoch 49/100\n",
      "36/36 [==============================] - 8s 217ms/step - loss: 0.0028 - mean_absolute_error: 0.0391\n",
      "Epoch 50/100\n",
      "36/36 [==============================] - 8s 218ms/step - loss: 0.0023 - mean_absolute_error: 0.0370\n",
      "Epoch 51/100\n",
      "36/36 [==============================] - 8s 218ms/step - loss: 0.0022 - mean_absolute_error: 0.0352\n",
      "Epoch 52/100\n",
      "36/36 [==============================] - 8s 218ms/step - loss: 0.0024 - mean_absolute_error: 0.0360\n",
      "Epoch 53/100\n",
      "36/36 [==============================] - 8s 220ms/step - loss: 0.0025 - mean_absolute_error: 0.0372\n",
      "Epoch 54/100\n",
      "36/36 [==============================] - 8s 218ms/step - loss: 0.0023 - mean_absolute_error: 0.0366\n",
      "Epoch 55/100\n",
      "36/36 [==============================] - 8s 220ms/step - loss: 0.0021 - mean_absolute_error: 0.0343\n",
      "Epoch 56/100\n",
      "36/36 [==============================] - 8s 217ms/step - loss: 0.0022 - mean_absolute_error: 0.0345\n",
      "Epoch 57/100\n",
      "36/36 [==============================] - 8s 218ms/step - loss: 0.0021 - mean_absolute_error: 0.0342\n",
      "Epoch 58/100\n",
      "36/36 [==============================] - 8s 221ms/step - loss: 0.0019 - mean_absolute_error: 0.0329\n",
      "Epoch 59/100\n",
      "36/36 [==============================] - 8s 222ms/step - loss: 0.0020 - mean_absolute_error: 0.0338\n",
      "Epoch 60/100\n",
      "36/36 [==============================] - 8s 219ms/step - loss: 0.0019 - mean_absolute_error: 0.0330\n",
      "Epoch 61/100\n",
      "36/36 [==============================] - 8s 218ms/step - loss: 0.0018 - mean_absolute_error: 0.0329\n",
      "Epoch 62/100\n",
      "36/36 [==============================] - 9s 248ms/step - loss: 0.0019 - mean_absolute_error: 0.0312\n",
      "Epoch 63/100\n",
      "36/36 [==============================] - 8s 215ms/step - loss: 0.0018 - mean_absolute_error: 0.0319\n",
      "Epoch 64/100\n",
      "36/36 [==============================] - 8s 218ms/step - loss: 0.0018 - mean_absolute_error: 0.0324\n",
      "Epoch 65/100\n",
      "36/36 [==============================] - 8s 219ms/step - loss: 0.0021 - mean_absolute_error: 0.0341\n",
      "Epoch 66/100\n",
      "36/36 [==============================] - 8s 218ms/step - loss: 0.0020 - mean_absolute_error: 0.0337\n",
      "Epoch 67/100\n",
      "36/36 [==============================] - 8s 217ms/step - loss: 0.0019 - mean_absolute_error: 0.0323\n",
      "Epoch 68/100\n",
      "36/36 [==============================] - 8s 218ms/step - loss: 0.0016 - mean_absolute_error: 0.0309\n",
      "Epoch 69/100\n",
      "36/36 [==============================] - 8s 218ms/step - loss: 0.0018 - mean_absolute_error: 0.0330\n",
      "Epoch 70/100\n",
      "36/36 [==============================] - 8s 218ms/step - loss: 0.0021 - mean_absolute_error: 0.0342\n",
      "Epoch 71/100\n",
      "36/36 [==============================] - 8s 216ms/step - loss: 0.0018 - mean_absolute_error: 0.0323\n",
      "Epoch 72/100\n",
      "36/36 [==============================] - 8s 219ms/step - loss: 0.0020 - mean_absolute_error: 0.0327\n",
      "Epoch 73/100\n"
     ]
    },
    {
     "name": "stdout",
     "output_type": "stream",
     "text": [
      "36/36 [==============================] - 8s 215ms/step - loss: 0.0017 - mean_absolute_error: 0.0306\n",
      "Epoch 74/100\n",
      "36/36 [==============================] - 8s 218ms/step - loss: 0.0017 - mean_absolute_error: 0.0308\n",
      "Epoch 75/100\n",
      "36/36 [==============================] - 8s 212ms/step - loss: 0.0018 - mean_absolute_error: 0.0314\n",
      "Epoch 76/100\n",
      "36/36 [==============================] - 8s 212ms/step - loss: 0.0018 - mean_absolute_error: 0.0318\n",
      "Epoch 77/100\n",
      "36/36 [==============================] - 8s 211ms/step - loss: 0.0021 - mean_absolute_error: 0.0332\n",
      "Epoch 78/100\n",
      "36/36 [==============================] - 8s 211ms/step - loss: 0.0015 - mean_absolute_error: 0.0286\n",
      "Epoch 79/100\n",
      "36/36 [==============================] - 8s 213ms/step - loss: 0.0019 - mean_absolute_error: 0.0326\n",
      "Epoch 80/100\n",
      "36/36 [==============================] - 9s 243ms/step - loss: 0.0018 - mean_absolute_error: 0.0318\n",
      "Epoch 81/100\n",
      "36/36 [==============================] - 8s 217ms/step - loss: 0.0016 - mean_absolute_error: 0.0307\n",
      "Epoch 82/100\n",
      "36/36 [==============================] - 8s 213ms/step - loss: 0.0019 - mean_absolute_error: 0.0325\n",
      "Epoch 83/100\n",
      "36/36 [==============================] - 8s 213ms/step - loss: 0.0015 - mean_absolute_error: 0.0289\n",
      "Epoch 84/100\n",
      "36/36 [==============================] - 8s 214ms/step - loss: 0.0016 - mean_absolute_error: 0.0297\n",
      "Epoch 85/100\n",
      "36/36 [==============================] - 8s 214ms/step - loss: 0.0017 - mean_absolute_error: 0.0305\n",
      "Epoch 86/100\n",
      "36/36 [==============================] - 8s 215ms/step - loss: 0.0016 - mean_absolute_error: 0.0307\n",
      "Epoch 87/100\n",
      "36/36 [==============================] - 8s 217ms/step - loss: 0.0017 - mean_absolute_error: 0.0297\n",
      "Epoch 88/100\n",
      "36/36 [==============================] - 8s 217ms/step - loss: 0.0016 - mean_absolute_error: 0.0307\n",
      "Epoch 89/100\n",
      "36/36 [==============================] - 8s 216ms/step - loss: 0.0017 - mean_absolute_error: 0.0308\n",
      "Epoch 90/100\n",
      "36/36 [==============================] - 8s 215ms/step - loss: 0.0017 - mean_absolute_error: 0.0314\n",
      "Epoch 91/100\n",
      "36/36 [==============================] - 8s 216ms/step - loss: 0.0016 - mean_absolute_error: 0.0297\n",
      "Epoch 92/100\n",
      "36/36 [==============================] - 8s 215ms/step - loss: 0.0016 - mean_absolute_error: 0.0307\n",
      "Epoch 93/100\n",
      "36/36 [==============================] - 8s 214ms/step - loss: 0.0016 - mean_absolute_error: 0.0302\n",
      "Epoch 94/100\n",
      "36/36 [==============================] - 8s 214ms/step - loss: 0.0018 - mean_absolute_error: 0.0305\n",
      "Epoch 95/100\n",
      "36/36 [==============================] - 8s 215ms/step - loss: 0.0015 - mean_absolute_error: 0.0296\n",
      "Epoch 96/100\n",
      "36/36 [==============================] - 8s 216ms/step - loss: 0.0016 - mean_absolute_error: 0.0302\n",
      "Epoch 97/100\n",
      "36/36 [==============================] - 8s 215ms/step - loss: 0.0014 - mean_absolute_error: 0.0287\n",
      "Epoch 98/100\n",
      "36/36 [==============================] - 8s 214ms/step - loss: 0.0016 - mean_absolute_error: 0.0294\n",
      "Epoch 99/100\n",
      "36/36 [==============================] - 8s 216ms/step - loss: 0.0016 - mean_absolute_error: 0.0300\n",
      "Epoch 100/100\n",
      "36/36 [==============================] - 8s 216ms/step - loss: 0.0017 - mean_absolute_error: 0.0304\n"
     ]
    },
    {
     "data": {
      "text/plain": [
       "<tensorflow.python.keras.callbacks.History at 0x7f35c42d91c0>"
      ]
     },
     "execution_count": 20,
     "metadata": {},
     "output_type": "execute_result"
    }
   ],
   "source": [
    "regressor.fit(previsores, preco_real, epochs=100, batch_size=32)"
   ]
  },
  {
   "cell_type": "markdown",
   "id": "7c208925",
   "metadata": {},
   "source": [
    "# Previsão dos preço da Ação"
   ]
  },
  {
   "cell_type": "code",
   "execution_count": 21,
   "id": "37c210f2",
   "metadata": {},
   "outputs": [],
   "source": [
    "base_test = pd.read_csv(\"petr4_teste.csv\")\n",
    "preco_real_open = base_test.iloc[:, 1:2].values\n",
    "preco_real_hith = base_test.iloc[:, 2:3].values\n",
    "\n",
    "base_completa = pd.concat((base[\"Open\"], base_test[\"Open\"]), axis=0)"
   ]
  },
  {
   "cell_type": "code",
   "execution_count": 22,
   "id": "a0845214",
   "metadata": {},
   "outputs": [
    {
     "data": {
      "text/plain": [
       "1264"
      ]
     },
     "execution_count": 22,
     "metadata": {},
     "output_type": "execute_result"
    }
   ],
   "source": [
    "base_completa.shape[0]"
   ]
  },
  {
   "cell_type": "code",
   "execution_count": 23,
   "id": "76830db6",
   "metadata": {},
   "outputs": [],
   "source": [
    "entradas = base_completa[len(base_completa) - len(base_test) - 90:].values\n",
    "entradas = entradas.reshape(-1, 1)\n",
    "entradas = normalizador.transform(entradas)\n",
    "\n",
    "\n",
    "x_test = []\n",
    "for i in range(90, 112):\n",
    "    x_test.append(entradas[i-90:i, 0])\n",
    "x_test = np.array(x_test)\n"
   ]
  },
  {
   "cell_type": "code",
   "execution_count": 24,
   "id": "a6f5d915",
   "metadata": {},
   "outputs": [
    {
     "name": "stdout",
     "output_type": "stream",
     "text": [
      "[[0.46825012 0.46000969 0.46146389 ... 0.5681047  0.57343674 0.57343674]\n",
      " [0.46000969 0.46146389 0.44886088 ... 0.57343674 0.57343674 0.57779937]\n",
      " [0.46146389 0.44886088 0.46437227 ... 0.57343674 0.57779937 0.59234125]\n",
      " ...\n",
      " [0.54920019 0.55841008 0.5618032  ... 0.68589433 0.73048958 0.74406209]\n",
      " [0.55841008 0.5618032  0.5540475  ... 0.73048958 0.74406209 0.7464857 ]\n",
      " [0.5618032  0.5540475  0.53805138 ... 0.74406209 0.7464857  0.75133301]]\n"
     ]
    }
   ],
   "source": [
    "print(x_test)"
   ]
  },
  {
   "cell_type": "code",
   "execution_count": 25,
   "id": "7b1f538d",
   "metadata": {},
   "outputs": [],
   "source": [
    "x_test = np.reshape(x_test, (x_test.shape[0], x_test.shape[1], 1))"
   ]
  },
  {
   "cell_type": "code",
   "execution_count": 26,
   "id": "f7232984",
   "metadata": {},
   "outputs": [],
   "source": [
    "previsoes = regressor.predict(x_test)\n",
    "previsoes = normalizador.inverse_transform(previsoes)"
   ]
  },
  {
   "cell_type": "code",
   "execution_count": 28,
   "id": "5599812a",
   "metadata": {},
   "outputs": [
    {
     "name": "stdout",
     "output_type": "stream",
     "text": [
      "[[16.127146 16.309687]\n",
      " [16.17975  16.36342 ]\n",
      " [16.402903 16.58734 ]\n",
      " [16.689053 16.874899]\n",
      " [16.719349 16.907541]\n",
      " [16.718548 16.908457]\n",
      " [16.926746 17.117603]\n",
      " [16.948137 17.140532]\n",
      " [16.890974 17.084545]\n",
      " [16.98148  17.17548 ]\n",
      " [17.22528  17.419853]\n",
      " [17.326237 17.522297]\n",
      " [17.720345 17.917933]\n",
      " [18.17528  18.375715]\n",
      " [18.25379  18.45813 ]\n",
      " [18.196001 18.403307]\n",
      " [18.28895  18.497953]\n",
      " [18.355782 18.566177]\n",
      " [19.025318 19.237549]\n",
      " [19.441832 19.65821 ]\n",
      " [19.508427 19.729399]\n",
      " [19.578587 19.80306 ]]\n"
     ]
    }
   ],
   "source": [
    "print(previsoes)"
   ]
  },
  {
   "cell_type": "code",
   "execution_count": 39,
   "id": "807c3590",
   "metadata": {},
   "outputs": [
    {
     "data": {
      "text/plain": [
       "17.621813"
      ]
     },
     "execution_count": 39,
     "metadata": {},
     "output_type": "execute_result"
    }
   ],
   "source": [
    "previsoes[:, 0].mean()"
   ]
  },
  {
   "cell_type": "code",
   "execution_count": 40,
   "id": "865538bb",
   "metadata": {},
   "outputs": [
    {
     "data": {
      "text/plain": [
       "17.87454563636364"
      ]
     },
     "execution_count": 40,
     "metadata": {},
     "output_type": "execute_result"
    }
   ],
   "source": [
    "preco_real_open.mean()"
   ]
  },
  {
   "cell_type": "code",
   "execution_count": 41,
   "id": "840a7c1c",
   "metadata": {},
   "outputs": [
    {
     "data": {
      "text/plain": [
       "0.25273281592906827"
      ]
     },
     "execution_count": 41,
     "metadata": {},
     "output_type": "execute_result"
    }
   ],
   "source": [
    "preco_real_open.mean() - previsoes[:, 0].mean()"
   ]
  },
  {
   "cell_type": "markdown",
   "id": "eac1e814",
   "metadata": {},
   "source": [
    "## Plotando os gráficos dos preços reais e estimado pela rede neural"
   ]
  },
  {
   "cell_type": "code",
   "execution_count": 42,
   "id": "bf85ef92",
   "metadata": {},
   "outputs": [
    {
     "data": {
      "image/png": "[encoded data removed]",
      "text/plain": [
       "<Figure size 432x288 with 1 Axes>"
      ]
     },
     "metadata": {
      "needs_background": "light"
     },
     "output_type": "display_data"
    }
   ],
   "source": [
    "plt.plot(preco_real_open, color=\"red\", label=\"Preço Abertura Real\")\n",
    "plt.plot(preco_real_hith, color=\"black\", label=\"Preço Alta Real\")\n",
    "\n",
    "plt.plot(previsoes[:, 0], color=\"blue\", label=\"Previsão Abertura\")\n",
    "plt.plot(previsoes[:, 1], color=\"blue\", label=\"Previão Alta\")\n",
    "plt.title(\"Previsões preços da ação\")\n",
    "plt.xlabel(\"Tempo\")\n",
    "plt.ylabel(\"Valor Yahoo\")\n",
    "plt.legend()\n",
    "plt.show()"
   ]
  },
  {
   "cell_type": "code",
   "execution_count": null,
   "id": "ffbfd1f3",
   "metadata": {},
   "outputs": [],
   "source": []
  }
 ],
 "metadata": {
  "kernelspec": {
   "display_name": "Python 3",
   "language": "python",
   "name": "python3"
  },
  "language_info": {
   "codemirror_mode": {
    "name": "ipython",
    "version": 3
   },
   "file_extension": ".py",
   "mimetype": "text/x-python",
   "name": "python",
   "nbconvert_exporter": "python",
   "pygments_lexer": "ipython3",
   "version": "3.8.5"
  }
 },
 "nbformat": 4,
 "nbformat_minor": 5
}
